{
  "nbformat": 4,
  "nbformat_minor": 0,
  "metadata": {
    "colab": {
      "provenance": [],
      "authorship_tag": "ABX9TyMf6T+PVemgpz/tN/eaIS1e",
      "include_colab_link": true
    },
    "kernelspec": {
      "name": "python3",
      "display_name": "Python 3"
    },
    "language_info": {
      "name": "python"
    }
  },
  "cells": [
    {
      "cell_type": "markdown",
      "metadata": {
        "id": "view-in-github",
        "colab_type": "text"
      },
      "source": [
        "<a href=\"https://colab.research.google.com/github/S4158/Python/blob/main/Assignment_2_Data_Types_and_Structures.ipynb\" target=\"_parent\"><img src=\"https://colab.research.google.com/assets/colab-badge.svg\" alt=\"Open In Colab\"/></a>"
      ]
    },
    {
      "cell_type": "markdown",
      "source": [
        "**Data Types and Structures Questions**"
      ],
      "metadata": {
        "id": "U-mvqjvMgL1H"
      }
    },
    {
      "cell_type": "markdown",
      "source": [
        "**1.\tWhat are data structures, and why are they important?**\n",
        "\n",
        "Data structures organize and store data efficiently. They are important for optimizing performance in accessing, processing, and modifying data in various programming tasks and algorithms.\n",
        "\n",
        "**2.\tExplain the difference between mutable and immutable data types with examples.**\n",
        "\n",
        "Mutable types (like lists) can be changed after creation. Immutable types (like tuples, strings) cannot. For example, list.append() modifies the list, while tuple content remains unchanged.\n",
        "\n",
        "**3.\tWhat are the main differences between lists and tuples in Python?**\n",
        "\n",
        "Lists are mutable, dynamic, and allow modification. Tuples are immutable, faster, and suitable for fixed collections. Lists use square brackets [], tuples use parentheses ().\n",
        "\n",
        "**4.\tDescribe how dictionaries store data.**\n",
        "\n",
        "Dictionaries store data as key-value pairs using a hash table. Each key maps to a specific value, enabling fast access, insertion, and retrieval operations.\n",
        "\n",
        "**5.\tWhy might you use a set instead of a list in Python?**\n",
        "\n",
        "Sets automatically remove duplicate values and offer faster membership testing. They are useful when you need unique elements and don’t care about order.\n",
        "\n",
        "**6.\tWhat is a string in Python, and how is it different from a list?**\n",
        "\n",
        "A string is an immutable sequence of characters, while a list is mutable and can contain various data types. Strings cannot be changed after creation.\n",
        "\n",
        "**7.\tHow do tuples ensure data integrity in Python?**\n",
        "\n",
        "Tuples are immutable, meaning their elements cannot be modified after creation. This immutability protects data from unintended changes, ensuring consistency and data integrity.\n",
        "\n",
        "**8.\tWhat is a hash table, and how does it relate to dictionaries in Python?**\n",
        "\n",
        "A hash table stores data using key-value pairs with hashed keys. Python dictionaries use hash tables internally for fast access, insertion, and lookup operations.\n",
        "\n",
        "**9.\tCan lists contain different data types in Python?**\n",
        "\n",
        "Yes, Python lists can hold elements of multiple data types, such as integers, strings, or objects, making them flexible for storing heterogeneous data.\n",
        "\n",
        "**10.\tExplain why strings are immutable in Python.**\n",
        "\n",
        "Strings are immutable to enhance performance and security. Changes create a new string, preserving the original, which prevents accidental modifications and supports string interning.\n",
        "\n",
        "**11.\tWhat advantages do dictionaries offer over lists for certain tasks?**\n",
        "\n",
        "Dictionaries offer fast lookups, clear key-based access, and efficient organization of related data, making them ideal for mappings or datasets needing quick retrieval.\n",
        "\n",
        "**12.\tDescribe a scenario where using a tuple would be preferable over a list.**\n",
        "\n",
        "Use a tuple when data must remain constant, like representing fixed coordinates (x, y) or configuration settings that shouldn’t be modified during program execution.\n",
        "\n",
        "**13.\tHow do sets handle duplicate values in Python?**\n",
        "\n",
        "Sets automatically eliminate duplicate values. When adding elements, if a duplicate exists, it’s ignored, ensuring all set elements remain unique.\n",
        "\n",
        "**14.\tHow does the “in” keyword work differently for lists and dictionaries?**\n",
        "\n",
        "In lists, in checks if a value exists. In dictionaries, it checks for the presence of a key, not the value.\n",
        "\n",
        "**15.\tCan you modify the elements of a tuple? Explain why or why not.**\n",
        "\n",
        "No, tuples are immutable. Once created, their elements cannot be changed or updated. This design ensures data safety and consistency.\n",
        "\n",
        "\n",
        "**16.\tWhat is a nested dictionary, and give an example of its use case.**\n",
        "\n",
        "A nested dictionary contains another dictionary as a value. Useful for representing structured data like employee records: {\"emp1\": {\"name\": \"John\", \"age\": 30}}.\n",
        "\n",
        "**17.\tDescribe the time complexity of accessing elements in a dictionary.**\n",
        "\n",
        "Accessing an element in a dictionary has average time complexity of O(1) due to hashing, making lookups fast and efficient\n",
        "\n",
        "**18.\tIn what situations are lists preferred over dictionaries?**\n",
        "\n",
        "Lists are preferred when order matters, or when storing a sequence of items without needing named keys, like processing ordered datasets or iterating through items.\n",
        "\n",
        "**19.\tWhy are dictionaries considered unordered, and how does that affect data retrieval?**\n",
        "\n",
        "Historically, dictionaries didn't preserve insertion order. Though Python 3.7+ preserves order, logical use should not depend on it for guaranteed sequence\n",
        "\n",
        "**20.\tExplain the difference between a list and a dictionary in terms of data retrieval.**\n",
        "\n",
        "Lists retrieve elements by index, requiring knowledge of position. Dictionaries retrieve elements using keys, allowing direct, intuitive access to specific data.\n"
      ],
      "metadata": {
        "id": "pgT92J1UgQUP"
      }
    },
    {
      "cell_type": "markdown",
      "source": [
        "### **Practical Questions**"
      ],
      "metadata": {
        "id": "9ajFaaonhBwA"
      }
    },
    {
      "cell_type": "markdown",
      "source": [
        "**1.\tWrite a code to create a string with your name and print it.**"
      ],
      "metadata": {
        "id": "O6hKc4YXgWqv"
      }
    },
    {
      "cell_type": "code",
      "source": [
        "name = \"Sumit, Sharma\"\n",
        "print(name)"
      ],
      "metadata": {
        "colab": {
          "base_uri": "https://localhost:8080/"
        },
        "id": "SCt4MhinhHsX",
        "outputId": "52a19f96-a628-4e55-9c9a-8140f9c731b7"
      },
      "execution_count": 1,
      "outputs": [
        {
          "output_type": "stream",
          "name": "stdout",
          "text": [
            "Sumit, Sharma\n"
          ]
        }
      ]
    },
    {
      "cell_type": "markdown",
      "source": [
        "**2.\tWrite a code to find the length of the string \"Hello World\".**"
      ],
      "metadata": {
        "id": "9LVJyvFYhzFL"
      }
    },
    {
      "cell_type": "code",
      "source": [
        "string = \"Hello World\"\n",
        "string_length = len(string)\n",
        "print(string_length)\n"
      ],
      "metadata": {
        "colab": {
          "base_uri": "https://localhost:8080/"
        },
        "id": "zjcxtTcxh1ZO",
        "outputId": "7f0e9c61-3aff-44de-87cc-1c502cc9e5c9"
      },
      "execution_count": 2,
      "outputs": [
        {
          "output_type": "stream",
          "name": "stdout",
          "text": [
            "11\n"
          ]
        }
      ]
    },
    {
      "cell_type": "markdown",
      "source": [
        "**3.\tWrite a code to slice the first 3 characters from the string \"Python Programming\".**"
      ],
      "metadata": {
        "id": "zpcrnFDhiAG3"
      }
    },
    {
      "cell_type": "code",
      "source": [
        "string = \"Python Programming\"\n",
        "sliced_string = string[:3]\n",
        "print(sliced_string)\n"
      ],
      "metadata": {
        "colab": {
          "base_uri": "https://localhost:8080/"
        },
        "id": "IWjGfa8piC9g",
        "outputId": "b60e5ee8-d308-4b84-a3e5-8df6db28fa5c"
      },
      "execution_count": 3,
      "outputs": [
        {
          "output_type": "stream",
          "name": "stdout",
          "text": [
            "Pyt\n"
          ]
        }
      ]
    },
    {
      "cell_type": "markdown",
      "source": [
        "**4.\tWrite a code to convert the string \"hello\" to uppercase.**"
      ],
      "metadata": {
        "id": "GrxUK_BOiLjx"
      }
    },
    {
      "cell_type": "code",
      "source": [
        "uppweString=\"hello\"\n",
        "upper_string = String.upper()\n",
        "print(upper_string)\n"
      ],
      "metadata": {
        "colab": {
          "base_uri": "https://localhost:8080/"
        },
        "id": "5POlXlK1iMdJ",
        "outputId": "a2382138-3b5a-4506-9c38-dfd07909179a"
      },
      "execution_count": 4,
      "outputs": [
        {
          "output_type": "stream",
          "name": "stdout",
          "text": [
            "HELLO\n"
          ]
        }
      ]
    },
    {
      "cell_type": "markdown",
      "source": [
        "**5.\tWrite a code to replace the word \"apple\" with \"orange\" in the string \"I like apple\".**"
      ],
      "metadata": {
        "id": "DgYDNtjmiXlI"
      }
    },
    {
      "cell_type": "code",
      "source": [
        "string = \"I like apple\"\n",
        "replaced_string = string.replace(\"apple\", \"orange\")\n",
        "print(replaced_string)"
      ],
      "metadata": {
        "colab": {
          "base_uri": "https://localhost:8080/"
        },
        "id": "dO28SOosiaIA",
        "outputId": "b38b604e-9c86-49f3-aa1f-3630749fc373"
      },
      "execution_count": 8,
      "outputs": [
        {
          "output_type": "stream",
          "name": "stdout",
          "text": [
            "I like orange\n"
          ]
        }
      ]
    },
    {
      "cell_type": "markdown",
      "source": [
        "**6.\tWrite a code to create a list with numbers 1 to 5 and print it.**"
      ],
      "metadata": {
        "id": "17aDcGT1iyR_"
      }
    },
    {
      "cell_type": "code",
      "source": [
        "Numbers = [1, 2, 3, 4, 5]\n",
        "print(Numbers)"
      ],
      "metadata": {
        "colab": {
          "base_uri": "https://localhost:8080/"
        },
        "id": "nlBCpHwMi1Jg",
        "outputId": "e08dcf63-5ed3-4139-b201-00ef70b89e2d"
      },
      "execution_count": 9,
      "outputs": [
        {
          "output_type": "stream",
          "name": "stdout",
          "text": [
            "[1, 2, 3, 4, 5]\n"
          ]
        }
      ]
    },
    {
      "cell_type": "markdown",
      "source": [
        "**7.\tWrite a code to append the number 10 to the list [1, 2, 3, 4].**"
      ],
      "metadata": {
        "id": "DJCFAHPrjFpw"
      }
    },
    {
      "cell_type": "code",
      "source": [
        "Numbers = [1, 2, 3, 4]\n",
        "Numbers.append(10)\n",
        "print(Numbers)"
      ],
      "metadata": {
        "colab": {
          "base_uri": "https://localhost:8080/"
        },
        "id": "eae_R3N7jJ9Q",
        "outputId": "bb87c8ba-b2d6-434e-b604-80fafae0cd39"
      },
      "execution_count": 11,
      "outputs": [
        {
          "output_type": "stream",
          "name": "stdout",
          "text": [
            "[1, 2, 3, 4, 10]\n"
          ]
        }
      ]
    },
    {
      "cell_type": "markdown",
      "source": [
        "**8.\tWrite a code to remove the number 3 from the list [1, 2, 3, 4, 5].**"
      ],
      "metadata": {
        "id": "mvUCxlPejSk_"
      }
    },
    {
      "cell_type": "code",
      "source": [
        "Numbers = [1, 2, 3, 4, 5]\n",
        "Numbers.remove(3)\n",
        "print(Numbers)"
      ],
      "metadata": {
        "colab": {
          "base_uri": "https://localhost:8080/"
        },
        "id": "2EraOQ4TjTlg",
        "outputId": "f63ceee6-dc73-4da5-e8ff-0e9d8a90fe5d"
      },
      "execution_count": 12,
      "outputs": [
        {
          "output_type": "stream",
          "name": "stdout",
          "text": [
            "[1, 2, 4, 5]\n"
          ]
        }
      ]
    },
    {
      "cell_type": "markdown",
      "source": [
        "**9.\tWrite a code to access the second element in the list ['a', 'b', 'c', 'd'].**"
      ],
      "metadata": {
        "id": "uu9uwzqyjXhA"
      }
    },
    {
      "cell_type": "code",
      "source": [
        "Elements = ['a', 'b', 'c', 'd']\n",
        "second_element = Elements[1]\n",
        "print(second_element)"
      ],
      "metadata": {
        "colab": {
          "base_uri": "https://localhost:8080/"
        },
        "id": "Ho3VWcjqjatQ",
        "outputId": "9659c4a5-c7ed-4298-e69d-67d4c3c33e07"
      },
      "execution_count": 13,
      "outputs": [
        {
          "output_type": "stream",
          "name": "stdout",
          "text": [
            "b\n"
          ]
        }
      ]
    },
    {
      "cell_type": "markdown",
      "source": [
        "**10.\tWrite a code to reverse the list [10, 20, 30, 40, 50].**"
      ],
      "metadata": {
        "id": "cQcl2j4ijhdr"
      }
    },
    {
      "cell_type": "code",
      "source": [
        "list = [10, 20, 30, 40, 50]\n",
        "reversed_list = list[::-1]\n",
        "print(reversed_list)"
      ],
      "metadata": {
        "colab": {
          "base_uri": "https://localhost:8080/"
        },
        "id": "QMy5rl8Wji5w",
        "outputId": "d3a9b5c2-22b3-4607-e77e-bd4e7e097592"
      },
      "execution_count": 14,
      "outputs": [
        {
          "output_type": "stream",
          "name": "stdout",
          "text": [
            "[50, 40, 30, 20, 10]\n"
          ]
        }
      ]
    },
    {
      "cell_type": "markdown",
      "source": [
        "# **Tuple and Set Practice**\n",
        "**11.\tWrite a code to create a tuple with the elements 100, 200, 300 and print it.**"
      ],
      "metadata": {
        "id": "0RPxsYDyjtOf"
      }
    },
    {
      "cell_type": "code",
      "source": [
        "elements = (100, 200, 300)\n",
        "print(elements)"
      ],
      "metadata": {
        "colab": {
          "base_uri": "https://localhost:8080/"
        },
        "id": "tcyVhoYUj093",
        "outputId": "92af654a-f062-4feb-c40a-b598902e85b6"
      },
      "execution_count": 15,
      "outputs": [
        {
          "output_type": "stream",
          "name": "stdout",
          "text": [
            "(100, 200, 300)\n"
          ]
        }
      ]
    },
    {
      "cell_type": "markdown",
      "source": [
        "**12.\tWrite a code to access the second-to-last element of the tuple ('red', 'green', 'blue', 'yellow').**"
      ],
      "metadata": {
        "id": "gctuhdbJj5TI"
      }
    },
    {
      "cell_type": "code",
      "source": [
        "elements = ('red', 'green', 'blue', 'yellow')\n",
        "second_to_last_element = elements[-2]\n",
        "print(second_to_last_element)"
      ],
      "metadata": {
        "colab": {
          "base_uri": "https://localhost:8080/"
        },
        "id": "RoSnDk2lj7bp",
        "outputId": "0fed2e38-a89e-4cbc-c402-5e5959ca0977"
      },
      "execution_count": 16,
      "outputs": [
        {
          "output_type": "stream",
          "name": "stdout",
          "text": [
            "blue\n"
          ]
        }
      ]
    },
    {
      "cell_type": "markdown",
      "source": [
        "**13.\tWrite a code to find the minimum number in the tuple (10, 20, 5, 15).**"
      ],
      "metadata": {
        "id": "a-ZYRQK6kFQA"
      }
    },
    {
      "cell_type": "code",
      "source": [
        "number = (10, 20, 5, 15)\n",
        "minimum_number = min(number)\n",
        "print(minimum_number)"
      ],
      "metadata": {
        "colab": {
          "base_uri": "https://localhost:8080/"
        },
        "id": "vP6HTB6WkHtv",
        "outputId": "e224ab7c-0cf7-4a09-f360-23fef5dc0194"
      },
      "execution_count": 17,
      "outputs": [
        {
          "output_type": "stream",
          "name": "stdout",
          "text": [
            "5\n"
          ]
        }
      ]
    },
    {
      "cell_type": "markdown",
      "source": [
        "**14.\tWrite a code to find the index of the element \"cat\" in the tuple ('dog', 'cat', 'rabbit').**"
      ],
      "metadata": {
        "id": "dSYlOD2YkOGg"
      }
    },
    {
      "cell_type": "code",
      "source": [
        "elements = ('dog', 'cat', 'rabbit')\n",
        "index = elements.index(\"cat\")\n",
        "print(index)"
      ],
      "metadata": {
        "colab": {
          "base_uri": "https://localhost:8080/"
        },
        "id": "AheHK-5fkQG4",
        "outputId": "d8337252-6355-43e8-fe64-f8da1b445440"
      },
      "execution_count": 18,
      "outputs": [
        {
          "output_type": "stream",
          "name": "stdout",
          "text": [
            "1\n"
          ]
        }
      ]
    },
    {
      "cell_type": "markdown",
      "source": [
        "**15.\tWrite a code to create a tuple containing three different fruits and check if \"kiwi\" is in it**"
      ],
      "metadata": {
        "id": "fBcq_zSfkWgJ"
      }
    },
    {
      "cell_type": "code",
      "source": [
        "fruit = (\"apple\", \"banana\", \"orange\")\n",
        "is_kiwi_in_tuple = \"kiwi\" in fruit\n",
        "print(is_kiwi_in_tuple)"
      ],
      "metadata": {
        "colab": {
          "base_uri": "https://localhost:8080/"
        },
        "id": "IqWjL91MkajH",
        "outputId": "36df7120-2a1e-4b21-ecb4-c89b44c96c19"
      },
      "execution_count": 19,
      "outputs": [
        {
          "output_type": "stream",
          "name": "stdout",
          "text": [
            "False\n"
          ]
        }
      ]
    },
    {
      "cell_type": "markdown",
      "source": [
        "**16.\tWrite a code to create a set with the elements 'a', 'b', 'c' and print it.**"
      ],
      "metadata": {
        "id": "Kc6pDOOikpIh"
      }
    },
    {
      "cell_type": "code",
      "source": [
        "elements = {'a', 'b', 'c'}\n",
        "print(elements)"
      ],
      "metadata": {
        "colab": {
          "base_uri": "https://localhost:8080/"
        },
        "id": "7Lw4ZUPBkrUg",
        "outputId": "561ba1dd-2bdd-470b-c08c-96339a4449d8"
      },
      "execution_count": 20,
      "outputs": [
        {
          "output_type": "stream",
          "name": "stdout",
          "text": [
            "{'b', 'c', 'a'}\n"
          ]
        }
      ]
    },
    {
      "cell_type": "markdown",
      "source": [
        "**17.\tWrite a code to clear all elements from the set {1, 2, 3, 4, 5}.**"
      ],
      "metadata": {
        "id": "kLyQT2MrkuBQ"
      }
    },
    {
      "cell_type": "code",
      "source": [
        "element = {1, 2, 3, 4, 5}\n",
        "element.clear()\n",
        "print(element)"
      ],
      "metadata": {
        "colab": {
          "base_uri": "https://localhost:8080/"
        },
        "id": "45Kg9DHtkwj4",
        "outputId": "a0e9bff7-756a-49a5-f025-bf2e015b7612"
      },
      "execution_count": 21,
      "outputs": [
        {
          "output_type": "stream",
          "name": "stdout",
          "text": [
            "set()\n"
          ]
        }
      ]
    },
    {
      "cell_type": "markdown",
      "source": [
        "**18.\tWrite a code to remove the element 4 from the set {1, 2, 3, 4}.**"
      ],
      "metadata": {
        "id": "VRGUZRo_k0xI"
      }
    },
    {
      "cell_type": "code",
      "source": [
        "element = {1, 2, 3, 4}\n",
        "element.remove(4)\n",
        "print(element)"
      ],
      "metadata": {
        "colab": {
          "base_uri": "https://localhost:8080/"
        },
        "id": "p6BzyiAFk3YP",
        "outputId": "7ea4967e-b2a2-4196-f724-12d896e260ec"
      },
      "execution_count": 22,
      "outputs": [
        {
          "output_type": "stream",
          "name": "stdout",
          "text": [
            "{1, 2, 3}\n"
          ]
        }
      ]
    },
    {
      "cell_type": "markdown",
      "source": [
        "**19.\tWrite a code to find the union of two sets {1, 2, 3} and {3, 4, 5}.**"
      ],
      "metadata": {
        "id": "I_171eIgk6fK"
      }
    },
    {
      "cell_type": "code",
      "source": [
        "element1 = {1, 2, 3}\n",
        "element2 = {3, 4, 5}\n",
        "union_of_sets = element1.union(element2)\n",
        "print(union_of_sets)"
      ],
      "metadata": {
        "colab": {
          "base_uri": "https://localhost:8080/"
        },
        "id": "8zA5G7sdk9SP",
        "outputId": "0929934f-7a47-4971-83ae-009dd07c7926"
      },
      "execution_count": 23,
      "outputs": [
        {
          "output_type": "stream",
          "name": "stdout",
          "text": [
            "{1, 2, 3, 4, 5}\n"
          ]
        }
      ]
    },
    {
      "cell_type": "markdown",
      "source": [
        "**20.\tWrite a code to find the intersection of two sets {1, 2, 3} and {2, 3, 4}.**"
      ],
      "metadata": {
        "id": "3MsJZs4VlGoA"
      }
    },
    {
      "cell_type": "code",
      "source": [
        "set1 = {1, 2, 3}\n",
        "set2 = {2, 3, 4}\n",
        "intersection_of_sets = set1.intersection(set2)\n",
        "print(intersection_of_sets)"
      ],
      "metadata": {
        "colab": {
          "base_uri": "https://localhost:8080/"
        },
        "id": "oKHDRAu5lI4a",
        "outputId": "df527e87-fb3f-44db-9e34-8d88693b445a"
      },
      "execution_count": 25,
      "outputs": [
        {
          "output_type": "stream",
          "name": "stdout",
          "text": [
            "{2, 3}\n"
          ]
        }
      ]
    },
    {
      "cell_type": "markdown",
      "source": [
        "# **Dictionary Practice**\n",
        "**21.\tWrite a code to create a dictionary with the keys \"name\", \"age\", and \"city\", and print it.**"
      ],
      "metadata": {
        "id": "QDPB-V9VlXYQ"
      }
    },
    {
      "cell_type": "code",
      "source": [
        "Keys={\"name\": \"Sumit\", \"age\": 25, \"city\": \"New Delhi\"}\n",
        "print(Keys)"
      ],
      "metadata": {
        "colab": {
          "base_uri": "https://localhost:8080/"
        },
        "id": "1C4xQ_b2lfh_",
        "outputId": "902f5405-da4b-49ef-ebec-8ca8e3fa92ff"
      },
      "execution_count": 28,
      "outputs": [
        {
          "output_type": "stream",
          "name": "stdout",
          "text": [
            "{'name': 'Sumit', 'age': 25, 'city': 'New Delhi'}\n"
          ]
        }
      ]
    },
    {
      "cell_type": "markdown",
      "source": [
        "**22.\tWrite a code to add a new key-value pair \"country\": \"USA\" to the dictionary {'name': 'John', 'age': 25}.**"
      ],
      "metadata": {
        "id": "dcAhLYT7lnWn"
      }
    },
    {
      "cell_type": "code",
      "source": [
        "Keys = {'name': 'John', 'age': 25}\n",
        "Keys[\"country\"] = \"USA\"\n",
        "print(Keys)"
      ],
      "metadata": {
        "colab": {
          "base_uri": "https://localhost:8080/"
        },
        "id": "1V6a_8x-lp4n",
        "outputId": "a8ec446d-6d4e-41d1-d149-fbb47e7767a4"
      },
      "execution_count": 29,
      "outputs": [
        {
          "output_type": "stream",
          "name": "stdout",
          "text": [
            "{'name': 'John', 'age': 25, 'country': 'USA'}\n"
          ]
        }
      ]
    },
    {
      "cell_type": "markdown",
      "source": [
        "**23.\tWrite a code to access the value associated with the key \"name\" in the dictionary {'name': 'Alice', 'age': 30}.**"
      ],
      "metadata": {
        "id": "goztTpEwlvVA"
      }
    },
    {
      "cell_type": "code",
      "source": [
        "keys = {'name': 'Alice', 'age': 30}\n",
        "name_value = keys[\"name\"]\n",
        "print(name_value)"
      ],
      "metadata": {
        "colab": {
          "base_uri": "https://localhost:8080/"
        },
        "id": "ufmSGqDClw8A",
        "outputId": "4d29c47a-40e8-4652-aeb6-5fe80ecebdba"
      },
      "execution_count": 30,
      "outputs": [
        {
          "output_type": "stream",
          "name": "stdout",
          "text": [
            "Alice\n"
          ]
        }
      ]
    },
    {
      "cell_type": "markdown",
      "source": [
        "**24.\tWrite a code to remove the key \"age\" from the dictionary {'name': 'Bob', 'age': 22, 'city': 'New York'}.**"
      ],
      "metadata": {
        "id": "eIb6h5m5l5YA"
      }
    },
    {
      "cell_type": "code",
      "source": [
        "Keys = {'name': 'Bob', 'age': 22, 'city': 'New York'}\n",
        "del Keys[\"age\"]\n",
        "print(Keys)"
      ],
      "metadata": {
        "colab": {
          "base_uri": "https://localhost:8080/"
        },
        "id": "W9OAF2x7l8KX",
        "outputId": "45291b99-9f45-413f-ec4c-6aa52deaaa13"
      },
      "execution_count": 31,
      "outputs": [
        {
          "output_type": "stream",
          "name": "stdout",
          "text": [
            "{'name': 'Bob', 'city': 'New York'}\n"
          ]
        }
      ]
    },
    {
      "cell_type": "markdown",
      "source": [
        "**25.\tWrite a code to check if the key \"city\" exists in the dictionary {'name': 'Alice', 'city': 'Paris'}.**"
      ],
      "metadata": {
        "id": "wDXKMtUKmBcH"
      }
    },
    {
      "cell_type": "code",
      "source": [
        "Keys = {'name': 'Alice', 'city': 'Paris'}\n",
        "is_city_key_exists = \"city\" in Keys\n",
        "print(is_city_key_exists)"
      ],
      "metadata": {
        "colab": {
          "base_uri": "https://localhost:8080/"
        },
        "id": "VoY8rmpBmDYQ",
        "outputId": "8056f6ce-94b7-4553-a39d-eb0d70489f78"
      },
      "execution_count": 32,
      "outputs": [
        {
          "output_type": "stream",
          "name": "stdout",
          "text": [
            "True\n"
          ]
        }
      ]
    },
    {
      "cell_type": "markdown",
      "source": [
        "**26.\tWrite a code to create a list, a tuple, and a dictionary, and print them all.**"
      ],
      "metadata": {
        "id": "7zW5COmDmF0R"
      }
    },
    {
      "cell_type": "code",
      "source": [
        "List = [1, 2, 3, 4, 5]\n",
        "Tuple = (1, 2, 3, 4, 5)\n",
        "Dictionary = {\"name\": \"Sumit\", \"age\": 25, \"city\": \"New Delhi\"}\n",
        "print(List)\n",
        "print(Tuple)\n",
        "print(Dictionary)"
      ],
      "metadata": {
        "colab": {
          "base_uri": "https://localhost:8080/"
        },
        "id": "aPQHDeA0mINo",
        "outputId": "8e612d84-5f69-4cb5-84cf-159d24b4f29c"
      },
      "execution_count": 34,
      "outputs": [
        {
          "output_type": "stream",
          "name": "stdout",
          "text": [
            "[1, 2, 3, 4, 5]\n",
            "(1, 2, 3, 4, 5)\n",
            "{'name': 'Sumit', 'age': 25, 'city': 'New Delhi'}\n"
          ]
        }
      ]
    },
    {
      "cell_type": "markdown",
      "source": [
        "**27.\tWrite a code to create a list of 5 random numbers between 1 and 100, sort it in ascending order, and print the result**"
      ],
      "metadata": {
        "id": "qdeaP0WGmc_I"
      }
    },
    {
      "cell_type": "code",
      "source": [
        "import random\n",
        "\n",
        "random_numbers = random.sample(range(1, 101), 5)\n",
        "sorted_numbers = sorted(random_numbers)\n",
        "print(sorted_numbers)"
      ],
      "metadata": {
        "colab": {
          "base_uri": "https://localhost:8080/"
        },
        "id": "eWiFDIOjmuRQ",
        "outputId": "cbfe2013-c6e4-43e4-ee86-abc1b296e1d1"
      },
      "execution_count": 37,
      "outputs": [
        {
          "output_type": "stream",
          "name": "stdout",
          "text": [
            "[15, 39, 77, 94, 99]\n"
          ]
        }
      ]
    },
    {
      "cell_type": "markdown",
      "source": [
        "**28.\tWrite a code to create a list with strings and print the element at the third index**"
      ],
      "metadata": {
        "id": "o0iqVHlAm-Lh"
      }
    },
    {
      "cell_type": "code",
      "source": [
        "fruits = [\"apple\", \"banana\", \"cherry\", \"date\", \"elderberry\"]\n",
        "print(\"Element at index 3:\", fruits[3])"
      ],
      "metadata": {
        "colab": {
          "base_uri": "https://localhost:8080/"
        },
        "id": "azi5Do4BnATI",
        "outputId": "9ca5ebf3-5168-40b3-cbad-cb1d044c2622"
      },
      "execution_count": 38,
      "outputs": [
        {
          "output_type": "stream",
          "name": "stdout",
          "text": [
            "Element at index 3: date\n"
          ]
        }
      ]
    },
    {
      "cell_type": "markdown",
      "source": [
        "**29.\tWrite a code to combine two dictionaries into one and print the result.**"
      ],
      "metadata": {
        "id": "Z8D6SnJtnO35"
      }
    },
    {
      "cell_type": "code",
      "source": [
        "code1 = {'name': 'Alice', 'age': 30}\n",
        "code2 = {'city': 'New York', 'country': 'USA'}\n",
        "combined_dict = {**code1, **code2}\n",
        "print(combined_dict)"
      ],
      "metadata": {
        "colab": {
          "base_uri": "https://localhost:8080/"
        },
        "id": "5dqNPZV9nQyF",
        "outputId": "50aabdb6-c27e-413a-d132-1fcc32c9722d"
      },
      "execution_count": 39,
      "outputs": [
        {
          "output_type": "stream",
          "name": "stdout",
          "text": [
            "{'name': 'Alice', 'age': 30, 'city': 'New York', 'country': 'USA'}\n"
          ]
        }
      ]
    },
    {
      "cell_type": "markdown",
      "source": [
        "**30.\tWrite a code to convert a list of strings into a set**"
      ],
      "metadata": {
        "id": "hd66pjvpnWOg"
      }
    },
    {
      "cell_type": "code",
      "source": [
        "string_list = [\"apple\", \"banana\", \"cherry\", \"apple\", \"banana\"]\n",
        "string_set = set(string_list)\n",
        "print(\"Original List:\", string_list)\n",
        "print(\"Converted Set:\", string_set)"
      ],
      "metadata": {
        "colab": {
          "base_uri": "https://localhost:8080/"
        },
        "id": "zTKMihaYnYm6",
        "outputId": "b4214968-8dec-451d-80fa-9c8b6af30b37"
      },
      "execution_count": 42,
      "outputs": [
        {
          "output_type": "stream",
          "name": "stdout",
          "text": [
            "Original List: ['apple', 'banana', 'cherry', 'apple', 'banana']\n",
            "Converted Set: {'banana', 'cherry', 'apple'}\n"
          ]
        }
      ]
    }
  ]
}