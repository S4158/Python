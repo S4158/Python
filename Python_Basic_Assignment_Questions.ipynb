{
  "nbformat": 4,
  "nbformat_minor": 0,
  "metadata": {
    "colab": {
      "provenance": []
    },
    "kernelspec": {
      "name": "python3",
      "display_name": "Python 3"
    },
    "language_info": {
      "name": "python"
    }
  },
  "cells": [
    {
      "cell_type": "code",
      "source": [
        "'''\n",
        "1. Python is a high-level, versatile, interpreted language. Popular for simplicity, readability, and extensive libraries.\n",
        "\n",
        "2. An interpreter executes Python code line by line, translating it into machine code at runtime.\n",
        "\n",
        "3. Keywords are reserved words with special meanings, forming the fundamental building blocks of Python syntax.\n",
        "\n",
        "4. No, keywords are reserved and cannot be used as variable names or any other identifiers.\n",
        "\n",
        "5. Mutability refers to an object's ability to be changed after its creation. Mutable objects can be modified.\n",
        "\n",
        "6. Lists are for dynamic, changeable collections. Tuples are for fixed, unchangeable data, ensuring integrity.\n",
        "\n",
        "7.  == checks value equality. `is` checks if two variables refer to the same object in memory.\n",
        "\n",
        "8. Logical operators (`and`, `or`, `not`) combine conditional statements, evaluating to `True` or `False`.\n",
        "\n",
        "9.  Type casting is the process of converting one data type to another, like int to float.\n",
        "\n",
        "10. Implicit casting is automatic type conversion. Explicit casting is manual conversion by the programmer.\n",
        "\n",
        "11. Conditional statements execute specific code blocks only if certain conditions are evaluated as true.\n",
        "\n",
        "12. elif` checks an additional condition if the preceding `if` or `elif` conditions were false.\n",
        "\n",
        "13. for` loops iterate over sequences. `while` loops repeat as long as a condition remains true.\n",
        "\n",
        "14. A `while` loop is better for repeating until an unpredictable condition is met, e.g., user input.\n"
      ],
      "metadata": {
        "colab": {
          "base_uri": "https://localhost:8080/"
        },
        "id": "J8m2jq_1kfcm",
        "outputId": "b2d71578-f295-471e-db91-942102681565"
      },
      "execution_count": 35,
      "outputs": [
        {
          "output_type": "stream",
          "name": "stdout",
          "text": [
            "Hello World\n"
          ]
        }
      ]
    },
    {
      "cell_type": "code",
      "source": [
        "print(\"Hello World\")"
      ],
      "metadata": {
        "colab": {
          "base_uri": "https://localhost:8080/"
        },
        "id": "CzGgk-hkwfd_",
        "outputId": "2846645b-6e10-4ee7-fc45-a2bcc4785c3a"
      },
      "execution_count": 36,
      "outputs": [
        {
          "output_type": "stream",
          "name": "stdout",
          "text": [
            "Hello World\n"
          ]
        }
      ]
    },
    {
      "cell_type": "code",
      "source": [
        "name = \"Sumit Shamra\"\n",
        "age = 29\n",
        "print(\"Name:\", name)\n",
        "print(\"Age:\", age)\n",
        "print(f\"My name is {name} and I am {age} years old.\")"
      ],
      "metadata": {
        "colab": {
          "base_uri": "https://localhost:8080/"
        },
        "id": "uozUTPNUty8u",
        "outputId": "3740b47e-a83f-4ec3-93c9-0002e1a7a431"
      },
      "execution_count": 37,
      "outputs": [
        {
          "output_type": "stream",
          "name": "stdout",
          "text": [
            "Name: Sumit Shamra\n",
            "Age: 29\n",
            "My name is Sumit Shamra and I am 29 years old.\n"
          ]
        }
      ]
    },
    {
      "cell_type": "code",
      "source": [
        "import keyword\n",
        "all_keywords = keyword.kwlist\n",
        "print(\"All pre-defined keywords in Python:\")\n",
        "for kw in all_keywords:\n",
        "    print(kw)"
      ],
      "metadata": {
        "colab": {
          "base_uri": "https://localhost:8080/"
        },
        "id": "Cb4snURNkf2j",
        "outputId": "e283ccf4-69aa-46a2-a350-94b15e7c01c1"
      },
      "execution_count": 4,
      "outputs": [
        {
          "output_type": "stream",
          "name": "stdout",
          "text": [
            "All pre-defined keywords in Python:\n",
            "False\n",
            "None\n",
            "True\n",
            "and\n",
            "as\n",
            "assert\n",
            "async\n",
            "await\n",
            "break\n",
            "class\n",
            "continue\n",
            "def\n",
            "del\n",
            "elif\n",
            "else\n",
            "except\n",
            "finally\n",
            "for\n",
            "from\n",
            "global\n",
            "if\n",
            "import\n",
            "in\n",
            "is\n",
            "lambda\n",
            "nonlocal\n",
            "not\n",
            "or\n",
            "pass\n",
            "raise\n",
            "return\n",
            "try\n",
            "while\n",
            "with\n",
            "yield\n"
          ]
        }
      ]
    },
    {
      "cell_type": "code",
      "source": [
        "import keyword\n",
        "\n",
        "def check_if_keyword(word):\n",
        "    \"\"\"\n",
        "    Checks if a given word is a Python keyword.\n",
        "\n",
        "    Args:\n",
        "        word (str): The word to check.\n",
        "\n",
        "    Returns:\n",
        "        bool: True if the word is a keyword, False otherwise.\n",
        "    \"\"\"\n",
        "    return keyword.iskeyword(word)\n",
        "\n",
        "# --- Main part of the program ---\n",
        "if __name__ == \"__main__\":\n",
        "    print(\"--- Python Keyword Checker ---\")\n",
        "\n",
        "    while True:\n",
        "        user_input = input(\"Enter a word to check (or 'quit' to exit): \").strip()\n",
        "\n",
        "        if user_input.lower() == 'quit':\n",
        "            print(\"Exiting program. Goodbye!\")\n",
        "            break\n",
        "        elif not user_input:\n",
        "            print(\"Please enter a word.\")\n",
        "            continue\n",
        "\n",
        "        if check_if_keyword(user_input):\n",
        "            print(f\"'{user_input}' IS a Python keyword.\")\n",
        "        else:\n",
        "            print(f\"'{user_input}' is NOT a Python keyword.\")\n",
        "        print(\"-\" * 30)"
      ],
      "metadata": {
        "colab": {
          "base_uri": "https://localhost:8080/"
        },
        "id": "n1qjtzOdkf_u",
        "outputId": "77e9d672-8710-45c7-8b46-59892c65801a"
      },
      "execution_count": 5,
      "outputs": [
        {
          "output_type": "stream",
          "name": "stdout",
          "text": [
            "--- Python Keyword Checker ---\n",
            "Enter a word to check (or 'quit' to exit): exit\n",
            "'exit' is NOT a Python keyword.\n",
            "------------------------------\n",
            "Enter a word to check (or 'quit' to exit): quit\n",
            "Exiting program. Goodbye!\n"
          ]
        }
      ]
    },
    {
      "cell_type": "code",
      "source": [
        "# --- 1. Creating a List ---\n",
        "my_list = [10, 20, 30, 40, 50]\n",
        "print(f\"Original List: {my_list}\")\n",
        "print(f\"Type of my_list: {type(my_list)}\")\n",
        "\n",
        "# --- 2. Attempting to change an element in a List ---\n",
        "print(\"\\n--- Attempting to change an element in the List ---\")\n",
        "try:\n",
        "    # Lists are mutable, so we can change elements\n",
        "    my_list[2] = 35  # Change the element at index 2 (which was 30) to 35\n",
        "    print(f\"List after changing element at index 2: {my_list}\")\n",
        "    print(\"Result: Successfully changed the element in the list.\")\n",
        "except TypeError as e:\n",
        "    print(f\"Error: {e} (This should not happen for lists)\")\n",
        "\n",
        "print(\"-\" * 40)\n",
        "\n",
        "# --- 3. Creating a Tuple ---\n",
        "my_tuple = (100, 200, 300, 400, 500)\n",
        "print(f\"Original Tuple: {my_tuple}\")\n",
        "print(f\"Type of my_tuple: {type(my_tuple)}\")\n",
        "\n",
        "# --- 4. Attempting to change an element in a Tuple ---\n",
        "print(\"\\n--- Attempting to change an element in the Tuple ---\")\n",
        "try:\n",
        "    # Tuples are immutable, so attempting to change an element will raise an error\n",
        "    my_tuple[2] = 350  # Attempt to change the element at index 2 (which was 300) to 350\n",
        "    print(f\"Tuple after attempting to change element at index 2: {my_tuple}\")\n",
        "    print(\"Result: This line should not be reached if an error occurs.\")\n",
        "except TypeError:\n",
        "    print(\"Result: Successfully caught the TypeError as expected because tuples are immutable.\")"
      ],
      "metadata": {
        "colab": {
          "base_uri": "https://localhost:8080/"
        },
        "id": "cLQfTrC9kgGy",
        "outputId": "4e8db0de-5414-4b9c-c4bf-780d712184b4"
      },
      "execution_count": 7,
      "outputs": [
        {
          "output_type": "stream",
          "name": "stdout",
          "text": [
            "Original List: [10, 20, 30, 40, 50]\n",
            "Type of my_list: <class 'list'>\n",
            "\n",
            "--- Attempting to change an element in the List ---\n",
            "List after changing element at index 2: [10, 20, 35, 40, 50]\n",
            "Result: Successfully changed the element in the list.\n",
            "----------------------------------------\n",
            "Original Tuple: (100, 200, 300, 400, 500)\n",
            "Type of my_tuple: <class 'tuple'>\n",
            "\n",
            "--- Attempting to change an element in the Tuple ---\n",
            "Result: Successfully caught the TypeError as expected because tuples are immutable.\n"
          ]
        }
      ]
    },
    {
      "cell_type": "code",
      "source": [
        "def modify_args(x, lst):\n",
        "    print(\"\\nInside function - Before modification:\")\n",
        "    print(\"x (immutable):\", x)\n",
        "    print(\"lst (mutable):\", lst)\n",
        "\n",
        "    # Attempt to modify both arguments\n",
        "    x += 1           # For immutable (creates new object)\n",
        "    lst.append(4)    # For mutable (modifies in place)\n",
        "\n",
        "    print(\"\\nInside function - After modification:\")\n",
        "    print(\"x (immutable):\", x)\n",
        "    print(\"lst (mutable):\", lst)\n",
        "\n",
        "# Original values\n",
        "num = 10\n",
        "my_list = [1, 2, 3]\n",
        "\n",
        "print(\"Before function call:\")\n",
        "print(\"num:\", num)\n",
        "print(\"my_list:\", my_list)\n",
        "\n",
        "# Call the function\n",
        "modify_args(num, my_list)\n",
        "\n",
        "print(\"\\nAfter function call:\")\n",
        "print(\"num (immutable - unchanged):\", num)\n",
        "print(\"my_list (mutable - changed):\", my_list)"
      ],
      "metadata": {
        "colab": {
          "base_uri": "https://localhost:8080/"
        },
        "id": "JJQJtd5-kgLn",
        "outputId": "bb996cd5-422b-4761-d8cf-fabcd2b74197"
      },
      "execution_count": 8,
      "outputs": [
        {
          "output_type": "stream",
          "name": "stdout",
          "text": [
            "Before function call:\n",
            "num: 10\n",
            "my_list: [1, 2, 3]\n",
            "\n",
            "Inside function - Before modification:\n",
            "x (immutable): 10\n",
            "lst (mutable): [1, 2, 3]\n",
            "\n",
            "Inside function - After modification:\n",
            "x (immutable): 11\n",
            "lst (mutable): [1, 2, 3, 4]\n",
            "\n",
            "After function call:\n",
            "num (immutable - unchanged): 10\n",
            "my_list (mutable - changed): [1, 2, 3, 4]\n"
          ]
        }
      ]
    },
    {
      "cell_type": "code",
      "source": [
        "# Get input from user\n",
        "num1 = float(input(\"Enter first number: \"))\n",
        "num2 = float(input(\"Enter second number: \"))\n",
        "\n",
        "# Perform calculations\n",
        "print(f\"\\n{num1} + {num2} = {num1 + num2}\")\n",
        "print(f\"{num1} - {num2} = {num1 - num2}\")\n",
        "print(f\"{num1} * {num2} = {num1 * num2}\")\n",
        "print(f\"{num1} / {num2} = {num1 / num2}\")"
      ],
      "metadata": {
        "colab": {
          "base_uri": "https://localhost:8080/"
        },
        "id": "5qf-mmCKkc1X",
        "outputId": "62093103-b49a-4cc6-c082-ffb8197e87d3"
      },
      "execution_count": 11,
      "outputs": [
        {
          "output_type": "stream",
          "name": "stdout",
          "text": [
            "Enter first number: 5\n",
            "Enter second number: 5\n",
            "\n",
            "5.0 + 5.0 = 10.0\n",
            "5.0 - 5.0 = 0.0\n",
            "5.0 * 5.0 = 25.0\n",
            "5.0 / 5.0 = 1.0\n"
          ]
        }
      ]
    },
    {
      "cell_type": "code",
      "source": [
        "# Input two boolean values\n",
        "a = input(\"Enter True or False for a: \").lower() == 'true'\n",
        "b = input(\"Enter True or False for b: \").lower() == 'true'\n",
        "\n",
        "# Demonstrate logical operators\n",
        "print(f\"\\na and b: {a and b}\")  # True only if both are True\n",
        "print(f\"a or b:  {a or b}\")    # True if either is True\n",
        "print(f\"not a:   {not a}\")     # Inverts the boolean value\n",
        "print(f\"not b:   {not b}\")"
      ],
      "metadata": {
        "colab": {
          "base_uri": "https://localhost:8080/"
        },
        "id": "rzPqw5LBo9ii",
        "outputId": "fffea279-18b8-4fda-a319-e8f3b52c4f34"
      },
      "execution_count": 12,
      "outputs": [
        {
          "output_type": "stream",
          "name": "stdout",
          "text": [
            "Enter True or False for a: 5\n",
            "Enter True or False for b: 9\n",
            "\n",
            "a and b: False\n",
            "a or b:  False\n",
            "not a:   True\n",
            "not b:   True\n"
          ]
        }
      ]
    },
    {
      "cell_type": "code",
      "source": [
        "# Get user input\n",
        "user_input = input(42)\n",
        "\n",
        "# Convert to different types\n",
        "int_val = int(user_input) if user_input.lstrip('-').isdigit() else None\n",
        "float_val = float(user_input) if user_input.replace('.','',1).lstrip('-').isdigit() else None\n",
        "bool_val = True if user_input.lower() == 'true' else (False if user_input.lower() == 'false' else None)\n",
        "\n",
        "# Display results\n",
        "print(f\"\\nAs integer: {int_val}\")\n",
        "print(f\"As float: {float_val}\")\n",
        "print(f\"As boolean: {bool_val}\")"
      ],
      "metadata": {
        "colab": {
          "base_uri": "https://localhost:8080/"
        },
        "id": "XPRTOFEzpU-I",
        "outputId": "b2886830-5f10-4941-9021-b3d2fa826ac9"
      },
      "execution_count": 13,
      "outputs": [
        {
          "output_type": "stream",
          "name": "stdout",
          "text": [
            "4242\n",
            "\n",
            "As integer: 42\n",
            "As float: 42.0\n",
            "As boolean: None\n"
          ]
        }
      ]
    },
    {
      "cell_type": "code",
      "source": [
        "# Original list with mixed types\n",
        "mixed_list = ['10', '5.5', 'True', 'hello']\n",
        "\n",
        "# Type casting each element\n",
        "int_list = [int(x) for x in mixed_list if x.lstrip('-').isdigit()]\n",
        "float_list = [float(x) for x in mixed_list if x.replace('.','',1).lstrip('-').isdigit()]\n",
        "bool_list = [bool(x) for x in mixed_list if x.lower() in ['true','false']]\n",
        "\n",
        "# Display results\n",
        "print(\"Original list:\", mixed_list)\n",
        "print(\"As integers:\", int_list)\n",
        "print(\"As floats:\", float_list)\n",
        "print(\"As booleans:\", bool_list)"
      ],
      "metadata": {
        "colab": {
          "base_uri": "https://localhost:8080/"
        },
        "id": "0xqTjhctp0s4",
        "outputId": "0bc111b6-f7e7-4687-dd66-1072da9b4f8c"
      },
      "execution_count": 14,
      "outputs": [
        {
          "output_type": "stream",
          "name": "stdout",
          "text": [
            "Original list: ['10', '5.5', 'True', 'hello']\n",
            "As integers: [10]\n",
            "As floats: [10.0, 5.5]\n",
            "As booleans: [True]\n"
          ]
        }
      ]
    },
    {
      "cell_type": "code",
      "source": [
        "num = 5\n",
        "\n",
        "if num > 0:\n",
        "    print(\"Positive number\")\n",
        "elif num < 0:\n",
        "    print(\"Negative number\")\n",
        "else:\n",
        "    print(\"Zero\")"
      ],
      "metadata": {
        "colab": {
          "base_uri": "https://localhost:8080/"
        },
        "id": "VXXYMFeap7Jw",
        "outputId": "9bd1e2ff-0097-4fc3-d3ff-927b1be4ac03"
      },
      "execution_count": 15,
      "outputs": [
        {
          "output_type": "stream",
          "name": "stdout",
          "text": [
            "Positive number\n"
          ]
        }
      ]
    },
    {
      "cell_type": "code",
      "source": [
        "for i in range(1,11):\n",
        "  print(i)"
      ],
      "metadata": {
        "colab": {
          "base_uri": "https://localhost:8080/"
        },
        "id": "URLwwoR_qaDW",
        "outputId": "1f3c8b13-e436-4d45-cd0a-8651136ad399"
      },
      "execution_count": 20,
      "outputs": [
        {
          "output_type": "stream",
          "name": "stdout",
          "text": [
            "1\n",
            "2\n",
            "3\n",
            "4\n",
            "5\n",
            "6\n",
            "7\n",
            "8\n",
            "9\n",
            "10\n"
          ]
        }
      ]
    },
    {
      "cell_type": "code",
      "source": [
        "list(range(0,50,2))"
      ],
      "metadata": {
        "colab": {
          "base_uri": "https://localhost:8080/"
        },
        "id": "hX1tI4AarjPg",
        "outputId": "e20d2195-66e2-4a0d-adcb-2f1a820c0b72"
      },
      "execution_count": 24,
      "outputs": [
        {
          "output_type": "execute_result",
          "data": {
            "text/plain": [
              "[0,\n",
              " 2,\n",
              " 4,\n",
              " 6,\n",
              " 8,\n",
              " 10,\n",
              " 12,\n",
              " 14,\n",
              " 16,\n",
              " 18,\n",
              " 20,\n",
              " 22,\n",
              " 24,\n",
              " 26,\n",
              " 28,\n",
              " 30,\n",
              " 32,\n",
              " 34,\n",
              " 36,\n",
              " 38,\n",
              " 40,\n",
              " 42,\n",
              " 44,\n",
              " 46,\n",
              " 48]"
            ]
          },
          "metadata": {},
          "execution_count": 24
        }
      ]
    },
    {
      "cell_type": "code",
      "source": [
        "ext = input(\"five\")\n",
        "reversed_text = \"\"\n",
        "i = len(text) - 1  # Start from the last character\n",
        "\n",
        "while i >= 0:\n",
        "    reversed_text += text[i]\n",
        "    i -= 1  # Move to the previous character\n",
        "\n",
        "print(\"Reversed string:\", reversed_text)"
      ],
      "metadata": {
        "colab": {
          "base_uri": "https://localhost:8080/"
        },
        "id": "iroXVjGzs2VM",
        "outputId": "c0ed4dd2-7f1d-4429-fa6b-d27e3394fbcb"
      },
      "execution_count": 29,
      "outputs": [
        {
          "output_type": "stream",
          "name": "stdout",
          "text": [
            "five5\n",
            "Reversed string: 5\n"
          ]
        }
      ]
    },
    {
      "cell_type": "code",
      "source": [
        "num = 5\n",
        "factorial = 1\n",
        "i = 1\n",
        "\n",
        "while i <= num:\n",
        "    factorial *= i\n",
        "    i += 1\n",
        "\n",
        "print(f\"The factorial of {num} is: {factorial}\")"
      ],
      "metadata": {
        "colab": {
          "base_uri": "https://localhost:8080/"
        },
        "id": "xgH4ywWttgPy",
        "outputId": "ec795f2c-1563-420d-d561-9b1fa12b0391"
      },
      "execution_count": 33,
      "outputs": [
        {
          "output_type": "stream",
          "name": "stdout",
          "text": [
            "The factorial of 5 is: 120\n"
          ]
        }
      ]
    }
  ]
}