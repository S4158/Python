{
  "nbformat": 4,
  "nbformat_minor": 0,
  "metadata": {
    "colab": {
      "provenance": [],
      "authorship_tag": "ABX9TyMbdh/39JsYSCUwUovY6F0p",
      "include_colab_link": true
    },
    "kernelspec": {
      "name": "python3",
      "display_name": "Python 3"
    },
    "language_info": {
      "name": "python"
    }
  },
  "cells": [
    {
      "cell_type": "markdown",
      "metadata": {
        "id": "view-in-github",
        "colab_type": "text"
      },
      "source": [
        "<a href=\"https://colab.research.google.com/github/S4158/Python/blob/main/Assignment_Functions.ipynb\" target=\"_parent\"><img src=\"https://colab.research.google.com/assets/colab-badge.svg\" alt=\"Open In Colab\"/></a>"
      ]
    },
    {
      "cell_type": "markdown",
      "source": [
        "# **Theory Questions**"
      ],
      "metadata": {
        "id": "lW2Ovmh7diIs"
      }
    },
    {
      "cell_type": "markdown",
      "source": [
        "**1: Difference Between a Function and a Method in Python**\n",
        "\n",
        "A function in Python is a standalone block of reusable code, not associated with any object, that performs a specific task and can be called independently. A method is a function defined within a class, inherently tied to an object, and called on that object, having access to its data and attributes.\n",
        "\n",
        "\n",
        "**2: Function Arguments and Parameters**\n",
        "\n",
        "Parameters are variables listed in a function’s definition and act as placeholders. Arguments are actual values passed into a function when it is called. Arguments can be required, default, keyword, or arbitrary, allowing flexible ways to supply data to functions.\n",
        "\n",
        "\n",
        "**3: Ways to Define and Call a Function in Python**\n",
        "\n",
        "Functions are defined using the def keyword, followed by the function name, parameters in parentheses, and a colon. To call a function, use its name with required arguments inside parentheses. Functions can also be called with keyword or variable arguments for versatility.\n",
        "\n",
        "\n",
        "**4: Purpose of the Return Statement in a Python Function**\n",
        "\n",
        "The return statement is used to end a function’s execution and send a value back to the caller. If no return statement is used, the function returns None by default. It allows functions to produce outputs usable elsewhere in the program.\n",
        "\n",
        "**5: Iterators vs. Iterables in Python**\n",
        "\n",
        "An iterable is any object capable of returning its elements one at a time, such as lists or tuples, through the __iter__() method. An iterator is an object with a __next__() method, enabling traversal of elements; every iterator is iterable, but not all iterables are iterators.\n",
        "\n",
        "\n",
        "**6: Concept and Definition of Generators in Python**\n",
        "\n",
        "A generator is a function that uses the yield keyword instead of return, producing a sequence of values lazily, one at a time. When called, it returns a generator object, which can be iterated over, maintaining its internal state between values.\n",
        "\n",
        "\n",
        "**7:Advantages of Generators Over Regular Functions**\n",
        "\n",
        "Generators enable memory-efficient iteration over large datasets by producing items one at a time, rather than storing the entire sequence in memory. They use lazy evaluation, which can improve performance for large or infinite sequences.\n",
        "\n",
        "\n",
        "\n",
        "**8: Lambda Function in Python and Typical Usage**\n",
        "A lambda function is a concise, anonymous function defined with the lambda keyword, capable of taking any number of arguments but only one expression. It's commonly used for short-term tasks, especially where a simple function is required briefly.\n",
        "\n",
        "\n",
        "**9: Purpose and Usage of the map() Function in Python**\n",
        "\n",
        "The map() function applies a given function to every item of an iterable (such as a list or tuple) and returns a map object (an iterator) of the results. It's used for transforming collections efficiently with a specified function.\n"
      ],
      "metadata": {
        "id": "rOMnSZp8c78o"
      }
    },
    {
      "cell_type": "markdown",
      "source": [
        "# **Practical Questions**"
      ],
      "metadata": {
        "id": "zswGfnHGdVDh"
      }
    },
    {
      "cell_type": "markdown",
      "source": [
        "**1.\tWrite a Python function that takes a list of numbers as input and returns the sum of all even numbers in the list.**"
      ],
      "metadata": {
        "id": "jXDRNG_cdXyR"
      }
    },
    {
      "cell_type": "code",
      "source": [
        "def sum_evens(numbers):\n",
        "    return sum(num for num in numbers if num % 2 == 0)\n",
        "\n",
        "# Example usage:\n",
        "print(sum_evens([1, 2, 3, 4, 5, 6]))  # Output: 12 (2+4+6)"
      ],
      "metadata": {
        "colab": {
          "base_uri": "https://localhost:8080/"
        },
        "id": "Co_mL4a9eGKU",
        "outputId": "a79d6d99-399f-446f-deeb-c763201d4f66"
      },
      "execution_count": 1,
      "outputs": [
        {
          "output_type": "stream",
          "name": "stdout",
          "text": [
            "12\n"
          ]
        }
      ]
    },
    {
      "cell_type": "markdown",
      "source": [
        "**2.\tCreate a Python function that accepts a string and returns the reverse of that string.**"
      ],
      "metadata": {
        "id": "mIj0wC4heaLd"
      }
    },
    {
      "cell_type": "code",
      "source": [
        "def reverse_string(s):\n",
        "    return s[::-1]\n",
        "\n",
        "print(reverse_string(\"Sumit\"))"
      ],
      "metadata": {
        "colab": {
          "base_uri": "https://localhost:8080/"
        },
        "id": "ijCw2UBSeam1",
        "outputId": "d9082800-a5ab-40a2-8ea5-ffd73df4f147"
      },
      "execution_count": 2,
      "outputs": [
        {
          "output_type": "stream",
          "name": "stdout",
          "text": [
            "timuS\n"
          ]
        }
      ]
    },
    {
      "cell_type": "markdown",
      "source": [
        "**3.\tImplement a Python function that takes a list of integers and returns a new list containing the squares of each number.**"
      ],
      "metadata": {
        "id": "1rFqz_gReiyl"
      }
    },
    {
      "cell_type": "code",
      "source": [
        "def square_number (numbers):\n",
        "    return [num**2 for num in numbers]\n",
        "\n",
        "print(square_number([1, 2, 3, 4, 5]))"
      ],
      "metadata": {
        "colab": {
          "base_uri": "https://localhost:8080/"
        },
        "id": "Gslqj17LelBE",
        "outputId": "9f7652e8-b596-4680-a0b3-0b2e08c65c41"
      },
      "execution_count": 3,
      "outputs": [
        {
          "output_type": "stream",
          "name": "stdout",
          "text": [
            "[1, 4, 9, 16, 25]\n"
          ]
        }
      ]
    },
    {
      "cell_type": "markdown",
      "source": [
        "**4.\tWrite a Python function that checks if a given number is prime or not from 1 to 200.**"
      ],
      "metadata": {
        "id": "Ha3XRQzjezzQ"
      }
    },
    {
      "cell_type": "code",
      "source": [
        "def is_prime(n):\n",
        "    if n <= 1:\n",
        "        return False\n",
        "    if n == 2:\n",
        "        return True\n",
        "    if n % 2 == 0:\n",
        "        return False\n",
        "    for i in range(3, int(n**0.5) + 1, 2):\n",
        "        if n % i == 0:\n",
        "            return False\n",
        "    return True\n",
        "\n",
        "# Check primes from 1-200\n",
        "primes = [num for num in range(1, 201) if is_prime(num)]\n",
        "print(primes)"
      ],
      "metadata": {
        "colab": {
          "base_uri": "https://localhost:8080/"
        },
        "id": "wJmuKVVqe3ll",
        "outputId": "49e9b4a0-0406-4e68-f408-62b35cc821b2"
      },
      "execution_count": 4,
      "outputs": [
        {
          "output_type": "stream",
          "name": "stdout",
          "text": [
            "[2, 3, 5, 7, 11, 13, 17, 19, 23, 29, 31, 37, 41, 43, 47, 53, 59, 61, 67, 71, 73, 79, 83, 89, 97, 101, 103, 107, 109, 113, 127, 131, 137, 139, 149, 151, 157, 163, 167, 173, 179, 181, 191, 193, 197, 199]\n"
          ]
        }
      ]
    },
    {
      "cell_type": "markdown",
      "source": [
        "**5.\tCreate an iterator class in Python that generates the Fibonacci sequence up to a specified number of terms.**"
      ],
      "metadata": {
        "id": "KMO2sl7QfN4E"
      }
    },
    {
      "cell_type": "code",
      "source": [
        "class FibonacciIterator:\n",
        "    def __init__(self, max_terms):\n",
        "        self.max_terms = max_terms\n",
        "        self.a, self.b = 0, 1\n",
        "        self.count = 0\n",
        "\n",
        "    def __iter__(self):\n",
        "        return self\n",
        "\n",
        "    def __next__(self):\n",
        "        if self.count >= self.max_terms:\n",
        "            raise StopIteration\n",
        "        value = self.a\n",
        "        self.a, self.b = self.b, self.a + self.b\n",
        "        self.count += 1\n",
        "        return value\n",
        "\n",
        "fib = FibonacciIterator(10)\n",
        "print(list(fib))"
      ],
      "metadata": {
        "colab": {
          "base_uri": "https://localhost:8080/"
        },
        "id": "jSPDCBM2fLSE",
        "outputId": "81ef0c2e-8803-4ee9-829c-2f0256961656"
      },
      "execution_count": 5,
      "outputs": [
        {
          "output_type": "stream",
          "name": "stdout",
          "text": [
            "[0, 1, 1, 2, 3, 5, 8, 13, 21, 34]\n"
          ]
        }
      ]
    },
    {
      "cell_type": "markdown",
      "source": [
        "**6.\tWrite a generator function in Python that yields the powers of 2 up to a given exponent.**"
      ],
      "metadata": {
        "id": "wP6Aiunwfey0"
      }
    },
    {
      "cell_type": "code",
      "source": [
        "def powers_of_two(max_exponent):\n",
        "    n = 0\n",
        "    while n <= max_exponent:\n",
        "        yield 2 ** n  # Yields 2^n\n",
        "        n += 1\n",
        "\n",
        "\n",
        "for power in powers_of_two(5):\n",
        "    print(power)"
      ],
      "metadata": {
        "colab": {
          "base_uri": "https://localhost:8080/"
        },
        "id": "P9njxrzkfhLk",
        "outputId": "f06fbb47-2b8d-413c-b976-322cda220070"
      },
      "execution_count": 6,
      "outputs": [
        {
          "output_type": "stream",
          "name": "stdout",
          "text": [
            "1\n",
            "2\n",
            "4\n",
            "8\n",
            "16\n",
            "32\n"
          ]
        }
      ]
    },
    {
      "cell_type": "markdown",
      "source": [
        "**7.\tImplement a generator function that reads a file line by line and yields each line as a string.**"
      ],
      "metadata": {
        "id": "aD9vL4kBfwvE"
      }
    },
    {
      "cell_type": "code",
      "source": [
        "def read_file_line_by_line(filename):\n",
        "  with open(filename, 'r', encoding='utf-8') as file:\n",
        "    for line in file:\n",
        "      yield line.strip()\n",
        "\n",
        "for line in read_file_line_by_line('example.txt'):\n",
        "    print(line)"
      ],
      "metadata": {
        "colab": {
          "base_uri": "https://localhost:8080/"
        },
        "id": "P6gOujD1fydN",
        "outputId": "40120aaf-df0d-4a22-9ad2-6dbd089fafe1"
      },
      "execution_count": 9,
      "outputs": [
        {
          "output_type": "stream",
          "name": "stdout",
          "text": [
            "This is line 1.\n",
            "This is line 2.\n",
            "This is line 3.\n"
          ]
        }
      ]
    },
    {
      "cell_type": "markdown",
      "source": [],
      "metadata": {
        "id": "YhiKE7aZgK3t"
      }
    },
    {
      "cell_type": "markdown",
      "source": [
        "**8.\tUse a lambda function in Python to sort a list of tuples based on the second element of each tuple.**"
      ],
      "metadata": {
        "id": "-CS6uwPpgMJD"
      }
    },
    {
      "cell_type": "code",
      "source": [
        "people = [('Alice', 32), ('Bob', 24), ('Charlie', 45), ('Diana', 19)]\n",
        "sorted_people = sorted(people, key=lambda x: x[1])\n",
        "print(sorted_people)"
      ],
      "metadata": {
        "colab": {
          "base_uri": "https://localhost:8080/"
        },
        "id": "nYiubkS9gOUD",
        "outputId": "d644be44-6a68-4f36-ae6d-21295e62ea98"
      },
      "execution_count": 10,
      "outputs": [
        {
          "output_type": "stream",
          "name": "stdout",
          "text": [
            "[('Diana', 19), ('Bob', 24), ('Alice', 32), ('Charlie', 45)]\n"
          ]
        }
      ]
    },
    {
      "cell_type": "markdown",
      "source": [
        "**9.\tWrite a Python program that uses map() to convert a list of temperatures from Celsius to Fahrenheit.**"
      ],
      "metadata": {
        "id": "nwRzlXr0ggge"
      }
    },
    {
      "cell_type": "code",
      "source": [
        "celsius_temps = [0, 10, 20, 30, 40]\n",
        "fahrenheit_temps = list(map(lambda c: (c * 9/5) + 32, celsius_temps))\n",
        "print(fahrenheit_temps)"
      ],
      "metadata": {
        "colab": {
          "base_uri": "https://localhost:8080/"
        },
        "id": "uzHZcmwNghfT",
        "outputId": "835db62d-52b7-41ce-9c8d-90ac732d497a"
      },
      "execution_count": 11,
      "outputs": [
        {
          "output_type": "stream",
          "name": "stdout",
          "text": [
            "[32.0, 50.0, 68.0, 86.0, 104.0]\n"
          ]
        }
      ]
    },
    {
      "cell_type": "markdown",
      "source": [
        "**10.\tCreate a Python program that uses filter() to remove all the vowels from a given string.**"
      ],
      "metadata": {
        "id": "FUcCHjAcgqV6"
      }
    },
    {
      "cell_type": "code",
      "source": [
        "def remove_vowels(text):\n",
        "    vowels = {'a', 'e', 'i', 'o', 'u', 'A', 'E', 'I', 'O', 'U'}\n",
        "    return ''.join(filter(lambda x: x not in vowels, text))\n",
        "\n",
        "text = \"Hello, World!\"\n",
        "filtered_text = remove_vowels(text)\n",
        "print(filtered_text)"
      ],
      "metadata": {
        "colab": {
          "base_uri": "https://localhost:8080/"
        },
        "id": "LxXv6YOdgsu7",
        "outputId": "30caad1b-a524-4a67-cae9-b3aa1368d7c4"
      },
      "execution_count": 12,
      "outputs": [
        {
          "output_type": "stream",
          "name": "stdout",
          "text": [
            "Hll, Wrld!\n"
          ]
        }
      ]
    },
    {
      "cell_type": "markdown",
      "source": [
        "**11. Accounting Routine Exercise\n",
        "Problem**"
      ],
      "metadata": {
        "id": "OvSLS3lhhHlr"
      }
    },
    {
      "cell_type": "code",
      "source": [
        "orders = [\n",
        "    [34587, \"Learning Python, Mark Lutz\", 4, 40.95],\n",
        "    [98762, \"Programming Python, Mark Lutz\", 5, 56.80],\n",
        "    [77226, \"Head First Python, Paul Barry\", 3, 32.95],\n",
        "    [88112, \"Einführung in Python3, Bernd Klein\", 3, 24.99]\n",
        "]\n",
        "\n",
        "processed_orders = list(map(\n",
        "    lambda order: (\n",
        "        order[0],\n",
        "        round(order[2] * order[3], 2) if order[2] * order[3] >= 100\n",
        "        else round(order[2] * order[3] + 10, 2)\n",
        "    ),\n",
        "    orders\n",
        "))\n",
        "\n",
        "print(processed_orders)"
      ],
      "metadata": {
        "colab": {
          "base_uri": "https://localhost:8080/"
        },
        "id": "cl-k8pE9hH-S",
        "outputId": "ffc6af13-0d98-405e-b772-3c18261f0693"
      },
      "execution_count": 13,
      "outputs": [
        {
          "output_type": "stream",
          "name": "stdout",
          "text": [
            "[(34587, 163.8), (98762, 284.0), (77226, 108.85), (88112, 84.97)]\n"
          ]
        }
      ]
    }
  ]
}