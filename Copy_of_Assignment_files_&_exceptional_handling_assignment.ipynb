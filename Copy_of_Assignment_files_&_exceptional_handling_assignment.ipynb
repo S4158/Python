{
  "nbformat": 4,
  "nbformat_minor": 0,
  "metadata": {
    "colab": {
      "provenance": [],
      "authorship_tag": "ABX9TyOw++vY+Bfn7LBK0s1uhdqZ",
      "include_colab_link": true
    },
    "kernelspec": {
      "name": "python3",
      "display_name": "Python 3"
    },
    "language_info": {
      "name": "python"
    }
  },
  "cells": [
    {
      "cell_type": "markdown",
      "metadata": {
        "id": "view-in-github",
        "colab_type": "text"
      },
      "source": [
        "<a href=\"https://colab.research.google.com/github/S4158/Python/blob/main/Copy_of_Assignment_files_%26_exceptional_handling_assignment.ipynb\" target=\"_parent\"><img src=\"https://colab.research.google.com/assets/colab-badge.svg\" alt=\"Open In Colab\"/></a>"
      ]
    },
    {
      "cell_type": "markdown",
      "source": [
        "# **Theory Questions & Answers**"
      ],
      "metadata": {
        "id": "iBLBV5KDutWN"
      }
    },
    {
      "cell_type": "markdown",
      "source": [
        "**1. What is the difference between interpreted and compiled languages?**\n",
        "\n",
        "Compiled languages (e.g., C, C++) are translated into machine code by a compiler before execution. The program runs directly on the CPU, usually faster.\n",
        "Interpreted languages (e.g., Python, JavaScript) are executed line-by-line by an interpreter at runtime, generally slower but easier to debug.\n",
        "\n",
        "Example:\n",
        "\n",
        "Compiled: .c → compiler → .exe\n",
        "\n",
        "Interpreted: Python file → Python interpreter → execution\n",
        "\n",
        "\n",
        "\n",
        "**2. What is exception handling in Python?**\n",
        "\n",
        "Exception handling is a mechanism to manage runtime errors in a program without crashing it.\n",
        "\n",
        "It uses try, except, else, and finally blocks to handle errors gracefully.\n",
        "\n",
        "\n",
        "\n",
        "**3. What is the purpose of the finally block in exception handling?**\n",
        "\n",
        "The finally block always executes, whether or not an exception occurred.\n",
        "\n",
        "Useful for cleanup tasks like closing files, releasing resources.\n",
        "\n",
        "\n",
        "\n",
        "**4. What is logging in Python?**\n",
        "\n",
        "Logging is the process of recording events during program execution.\n",
        "\n",
        "Python’s logging module allows storing debug info, warnings, and errors to files or console for later analysis.\n",
        "\n",
        "\n",
        "\n",
        "**5. What is the significance of the __del__ method in Python?**\n",
        "\n",
        "__del__ is a destructor method called when an object is garbage collected.\n",
        "\n",
        "Used to release resources before object deletion.\n",
        "\n",
        "Caution: Its execution timing is unpredictable.\n",
        "\n",
        "\n",
        "\n",
        "**6. What is the difference between import and from ... import in Python?**\n",
        "\n",
        "import module → imports the whole module (access via module.function()).\n",
        "\n",
        "from module import function → imports only specific items (access directly without module prefix).\n",
        "\n",
        "\n",
        "\n",
        "**7. How can you handle multiple exceptions in Python?**\n",
        "\n",
        "Multiple exceptions can be handled using:\n",
        "\n",
        "python\n",
        "Copy\n",
        "Edit\n",
        "try:\n",
        "    # code\n",
        "except (TypeError, ValueError) as e:\n",
        "    print(e)\n",
        "or multiple except blocks for each type.\n",
        "\n",
        "\n",
        "\n",
        "**8. What is the purpose of the with statement when handling files in Python?**\n",
        "\n",
        "Ensures files are automatically closed after use, even if an exception occurs.\n",
        "\n",
        "Syntax:\n",
        "\n",
        "python\n",
        "Copy\n",
        "Edit\n",
        "with open(\"file.txt\", \"r\") as f:\n",
        "    data = f.read()\n",
        "\n",
        "\n",
        "**9. What is the difference between multithreading and multiprocessing?**\n",
        "\n",
        "Multithreading: Multiple threads share the same memory space; lightweight but affected by GIL in Python.\n",
        "\n",
        "Multiprocessing: Multiple processes have separate memory spaces; can fully use multiple CPU cores.\n",
        "\n",
        "\n",
        "\n",
        "**10. What are the advantages of using logging in a program?**\n",
        "\n",
        "Debugging and troubleshooting.\n",
        "\n",
        "Persistent error history.\n",
        "\n",
        "Better than print() for large-scale applications.\n",
        "\n",
        "Can log at different severity levels.\n",
        "\n",
        "\n",
        "\n",
        "**11. What is memory management in Python?**\n",
        "\n",
        "Python uses automatic memory management via a private heap and garbage collection.\n",
        "\n",
        "Objects are allocated in the heap, and unused objects are freed automatically.\n",
        "\n",
        "\n",
        "\n",
        "**12. What are the basic steps involved in exception handling in Python?**\n",
        "\n",
        "try → wrap code that may cause an error.\n",
        "\n",
        "except → handle the error if it occurs.\n",
        "\n",
        "else → execute code if no error occurs.\n",
        "\n",
        "finally → execute cleanup code regardless of errors.\n",
        "\n",
        "\n",
        "\n",
        "**13. Why is memory management important in Python?**\n",
        "\n",
        "Prevents memory leaks.\n",
        "\n",
        "Ensures efficient use of resources.\n",
        "\n",
        "Avoids program crashes due to excessive memory usage.\n",
        "\n",
        "\n",
        "\n",
        "**14. What is the role of try and except in exception handling?**\n",
        "\n",
        "try: Wraps code that might raise exceptions.\n",
        "\n",
        "except: Catches and handles specific or general exceptions.\n",
        "\n",
        "\n",
        "\n",
        "**15. How does Python's garbage collection system work?**\n",
        "\n",
        "Uses reference counting and generational garbage collection to remove unused objects from memory automatically.\n",
        "\n",
        "\n",
        "\n",
        "**16. What is the purpose of the else block in exception handling?**\n",
        "\n",
        "Runs only if no exception occurs in the try block.\n",
        "\n",
        "Useful for code that should run only when everything succeeds.\n",
        "\n",
        "\n",
        "\n",
        "**17. What are the common logging levels in Python?**\n",
        "\n",
        "DEBUG\n",
        "\n",
        "INFO\n",
        "\n",
        "WARNING\n",
        "\n",
        "ERROR\n",
        "\n",
        "CRITICAL\n",
        "\n",
        "\n",
        "\n",
        "**18. What is the difference between os.fork() and multiprocessing in Python?**\n",
        "\n",
        "os.fork() → Creates a child process (Unix/Linux only).\n",
        "\n",
        "multiprocessing → Cross-platform module that spawns processes for parallel execution.\n",
        "\n",
        "\n",
        "\n",
        "**19. What is the importance of closing a file in Python?**\n",
        "\n",
        "Frees system resources.\n",
        "\n",
        "Ensures data is written to disk completely.\n",
        "\n",
        "Avoids file corruption.\n",
        "\n",
        "\n",
        "\n",
        "**20. What is the difference between file.read() and file.readline() in Python?**\n",
        "\n",
        "read() → Reads the entire file or specified number of bytes.\n",
        "\n",
        "readline() → Reads a single line at a time.\n",
        "\n",
        "\n",
        "\n",
        "**21. What is the logging module in Python used for?**\n",
        "\n",
        "For recording logs to console or files.\n",
        "\n",
        "Helps in debugging, error tracking, and monitoring.\n",
        "\n",
        "\n",
        "\n",
        "**22. What is the os module in Python used for in file handling?**\n",
        "\n",
        "Provides functions to interact with the operating system like file/directory creation, deletion, path handling.\n",
        "\n",
        "\n",
        "\n",
        "**23. What are the challenges associated with memory management in Python?**\n",
        "\n",
        "Memory fragmentation.\n",
        "\n",
        "Circular references.\n",
        "\n",
        "GIL limiting true multithreading performance.\n",
        "\n",
        "\n",
        "\n",
        "**24. How do you raise an exception manually in Python?**\n",
        "\n",
        "python\n",
        "Copy\n",
        "Edit\n",
        "raise ValueError(\"Invalid value\")\n",
        "\n",
        "\n",
        "**25. Why is it important to use multithreading in certain applications?**\n",
        "\n",
        "Improves performance for I/O-bound tasks.\n",
        "\n",
        "Allows simultaneous execution of multiple tasks, improving responsiveness."
      ],
      "metadata": {
        "id": "cRkSzBg8u0_J"
      }
    },
    {
      "cell_type": "markdown",
      "source": [
        "# **Practical Questions & Answers**"
      ],
      "metadata": {
        "id": "9SRmSdbEvjue"
      }
    },
    {
      "cell_type": "markdown",
      "source": [
        "**1. How can you open a file for writing in Python and write a string to it?**"
      ],
      "metadata": {
        "id": "y2MaATnBvtyL"
      }
    },
    {
      "cell_type": "code",
      "source": [
        "with open(\"file.txt\", \"w\") as f:\n",
        "    f.write(\"Hello, World!\")\n",
        "print(\"f.write is done\")"
      ],
      "metadata": {
        "colab": {
          "base_uri": "https://localhost:8080/"
        },
        "id": "xM2lKAZqvwWi",
        "outputId": "c3992068-eeea-45c2-fc43-40ff8122c983"
      },
      "execution_count": null,
      "outputs": [
        {
          "output_type": "stream",
          "name": "stdout",
          "text": [
            "f.write is done\n"
          ]
        }
      ]
    },
    {
      "cell_type": "markdown",
      "source": [
        "**2. Write a Python program to read the contents of a file and print each line**"
      ],
      "metadata": {
        "id": "2tdEw3f8wDwi"
      }
    },
    {
      "cell_type": "code",
      "source": [
        "with open(\"file.txt\", \"r\") as f:\n",
        "    for line in f:\n",
        "        print(line)"
      ],
      "metadata": {
        "colab": {
          "base_uri": "https://localhost:8080/"
        },
        "id": "NbOkaKoLwGQE",
        "outputId": "750a2fb4-4d87-430d-f57f-85d2fc94e00e"
      },
      "execution_count": null,
      "outputs": [
        {
          "output_type": "stream",
          "name": "stdout",
          "text": [
            "Hello, World!\n"
          ]
        }
      ]
    },
    {
      "cell_type": "markdown",
      "source": [
        "**3. How would you handle a case where the file doesn't exist while trying to open it for reading?**"
      ],
      "metadata": {
        "id": "N212UUNvwLsW"
      }
    },
    {
      "cell_type": "code",
      "source": [
        "try:\n",
        "    with open(\"non_existing.txt\", \"r\") as file:\n",
        "        data = file.read()\n",
        "except FileNotFoundError:\n",
        "    print(\"Error: File does not exist.\")"
      ],
      "metadata": {
        "colab": {
          "base_uri": "https://localhost:8080/"
        },
        "id": "4pk8_C4iwNp9",
        "outputId": "d08134de-c623-4ee9-d693-80492a26afcd"
      },
      "execution_count": null,
      "outputs": [
        {
          "output_type": "stream",
          "name": "stdout",
          "text": [
            "Error: File does not exist.\n"
          ]
        }
      ]
    },
    {
      "cell_type": "markdown",
      "source": [
        "**4. Write a Python script that reads from one file and writes its content to another file**"
      ],
      "metadata": {
        "id": "yszlqP9fwe6u"
      }
    },
    {
      "cell_type": "code",
      "source": [
        "with open(\"file.txt\", \"r\") as source_file:\n",
        "    content = source_file.read()\n",
        "\n",
        "with open(\"new_file.txt\", \"w\") as target_file:\n",
        "    target_file.write(content)\n",
        "print(\"File copied successfully.\")"
      ],
      "metadata": {
        "colab": {
          "base_uri": "https://localhost:8080/"
        },
        "id": "WhK6bRyMwhVd",
        "outputId": "15b51f32-4822-41dd-a937-e5ed1129ae0c"
      },
      "execution_count": null,
      "outputs": [
        {
          "output_type": "stream",
          "name": "stdout",
          "text": [
            "File copied successfully.\n"
          ]
        }
      ]
    },
    {
      "cell_type": "markdown",
      "source": [
        "**5. How would you catch and handle division by zero error in Python?**"
      ],
      "metadata": {
        "id": "55GcUrRwwpxu"
      }
    },
    {
      "cell_type": "code",
      "source": [
        "try:\n",
        "    result = 10 / 0\n",
        "except ZeroDivisionError:\n",
        "    print(\"Error: Cannot divide by zero.\")"
      ],
      "metadata": {
        "colab": {
          "base_uri": "https://localhost:8080/"
        },
        "id": "r55jSwKDwty6",
        "outputId": "c2a0e41c-3a27-4b22-f9c5-1d513307e58e"
      },
      "execution_count": null,
      "outputs": [
        {
          "output_type": "stream",
          "name": "stdout",
          "text": [
            "Error: Cannot divide by zero.\n"
          ]
        }
      ]
    },
    {
      "cell_type": "markdown",
      "source": [
        "**6. Write a Python program that logs an error message to a log file when a division by zero exception occurs**"
      ],
      "metadata": {
        "id": "rKaSZc4_wvVb"
      }
    },
    {
      "cell_type": "code",
      "source": [
        "import logging\n",
        "\n",
        "logging.basicConfig(filename=\"errors.log\", level=logging.ERROR)\n",
        "\n",
        "try:\n",
        "    result = 10 / 0\n",
        "except ZeroDivisionError:\n",
        "    logging.error(\"Division by zero attempted!\", exc_info=True)"
      ],
      "metadata": {
        "colab": {
          "base_uri": "https://localhost:8080/"
        },
        "id": "uNtTIrMKwypc",
        "outputId": "b929599f-4c9d-41c5-da6d-6eb8d253843e"
      },
      "execution_count": null,
      "outputs": [
        {
          "output_type": "stream",
          "name": "stderr",
          "text": [
            "ERROR:root:Division by zero attempted!\n",
            "Traceback (most recent call last):\n",
            "  File \"/tmp/ipython-input-563187328.py\", line 6, in <cell line: 0>\n",
            "    result = 10 / 0\n",
            "             ~~~^~~\n",
            "ZeroDivisionError: division by zero\n"
          ]
        }
      ]
    },
    {
      "cell_type": "markdown",
      "source": [
        "**7. How do you log information at different levels (INFO, ERROR, WARNING) in Python using the logging module?**"
      ],
      "metadata": {
        "id": "zSefAP6Sw2a4"
      }
    },
    {
      "cell_type": "code",
      "source": [
        "import logging\n",
        "\n",
        "logging.basicConfig(level=logging.DEBUG)\n",
        "\n",
        "logging.info(\"This is an info message.\")\n",
        "logging.warning(\"This is a warning.\")\n",
        "logging.error(\"This is an error.\")"
      ],
      "metadata": {
        "colab": {
          "base_uri": "https://localhost:8080/"
        },
        "id": "W5t6LJ0cw4Cl",
        "outputId": "2dda6bcd-cfa0-4521-f76d-e97b57e795ed"
      },
      "execution_count": null,
      "outputs": [
        {
          "output_type": "stream",
          "name": "stderr",
          "text": [
            "WARNING:root:This is a warning.\n",
            "ERROR:root:This is an error.\n"
          ]
        }
      ]
    },
    {
      "cell_type": "markdown",
      "source": [
        "**8. Write a program to handle a file opening error using exception handling**"
      ],
      "metadata": {
        "id": "WkgK6o79xDta"
      }
    },
    {
      "cell_type": "code",
      "source": [
        "try:\n",
        "  with open(\"non_existing.txt\", \"r\") as file:\n",
        "    data = file.read()\n",
        "except FileNotFoundError:\n",
        "  print(\"Error: File does not exist.\")"
      ],
      "metadata": {
        "colab": {
          "base_uri": "https://localhost:8080/"
        },
        "id": "xIW1QgMDxF8X",
        "outputId": "8b17147a-b8d3-4e25-febe-18d6043bc649"
      },
      "execution_count": null,
      "outputs": [
        {
          "output_type": "stream",
          "name": "stdout",
          "text": [
            "Error: File does not exist.\n"
          ]
        }
      ]
    },
    {
      "cell_type": "markdown",
      "source": [
        "**9. How can you read a file line by line and store its content in a list in Python?**"
      ],
      "metadata": {
        "id": "ttC1pfaixMrL"
      }
    },
    {
      "cell_type": "code",
      "source": [
        "with open(\"output.txt\", \"r\") as file:\n",
        "    lines = file.readlines()\n",
        "print(lines)\n"
      ],
      "metadata": {
        "colab": {
          "base_uri": "https://localhost:8080/",
          "height": 183
        },
        "id": "2qmzKf13xQhG",
        "outputId": "e53e6de9-eeaf-4ad6-c49a-c18cefda6474"
      },
      "execution_count": null,
      "outputs": [
        {
          "output_type": "error",
          "ename": "FileNotFoundError",
          "evalue": "[Errno 2] No such file or directory: 'output.txt'",
          "traceback": [
            "\u001b[0;31m---------------------------------------------------------------------------\u001b[0m",
            "\u001b[0;31mFileNotFoundError\u001b[0m                         Traceback (most recent call last)",
            "\u001b[0;32m/tmp/ipython-input-3256766402.py\u001b[0m in \u001b[0;36m<cell line: 0>\u001b[0;34m()\u001b[0m\n\u001b[0;32m----> 1\u001b[0;31m \u001b[0;32mwith\u001b[0m \u001b[0mopen\u001b[0m\u001b[0;34m(\u001b[0m\u001b[0;34m\"output.txt\"\u001b[0m\u001b[0;34m,\u001b[0m \u001b[0;34m\"r\"\u001b[0m\u001b[0;34m)\u001b[0m \u001b[0;32mas\u001b[0m \u001b[0mfile\u001b[0m\u001b[0;34m:\u001b[0m\u001b[0;34m\u001b[0m\u001b[0;34m\u001b[0m\u001b[0m\n\u001b[0m\u001b[1;32m      2\u001b[0m     \u001b[0mlines\u001b[0m \u001b[0;34m=\u001b[0m \u001b[0mfile\u001b[0m\u001b[0;34m.\u001b[0m\u001b[0mreadlines\u001b[0m\u001b[0;34m(\u001b[0m\u001b[0;34m)\u001b[0m\u001b[0;34m\u001b[0m\u001b[0;34m\u001b[0m\u001b[0m\n\u001b[1;32m      3\u001b[0m \u001b[0mprint\u001b[0m\u001b[0;34m(\u001b[0m\u001b[0mlines\u001b[0m\u001b[0;34m)\u001b[0m\u001b[0;34m\u001b[0m\u001b[0;34m\u001b[0m\u001b[0m\n",
            "\u001b[0;31mFileNotFoundError\u001b[0m: [Errno 2] No such file or directory: 'output.txt'"
          ]
        }
      ]
    },
    {
      "cell_type": "markdown",
      "source": [
        "**10. How can you append data to an existing file in Python?**"
      ],
      "metadata": {
        "id": "KwRqtXErxW0b"
      }
    },
    {
      "cell_type": "code",
      "source": [
        "with open(\"output.txt\", \"a\") as file:\n",
        "    file.write(\"\\nThis is appended text.\")"
      ],
      "metadata": {
        "id": "2I-DERlgxXoK"
      },
      "execution_count": null,
      "outputs": []
    },
    {
      "cell_type": "markdown",
      "source": [
        "**11. Write a Python program that uses a try-except block to handle an error when attempting to access a dictionary key that doesn't exist**"
      ],
      "metadata": {
        "id": "WE4tYuC8xaXb"
      }
    },
    {
      "cell_type": "code",
      "source": [
        "data = {\"name\": \"John\"}\n",
        "try:\n",
        "    print(data[\"age\"])\n",
        "except KeyError:\n",
        "    print(\"Error: Key does not exist.\")\n"
      ],
      "metadata": {
        "colab": {
          "base_uri": "https://localhost:8080/"
        },
        "id": "itWLUGY9xdLD",
        "outputId": "0425d5d4-9dde-43c3-e2a9-bc41fda71d9b"
      },
      "execution_count": null,
      "outputs": [
        {
          "output_type": "stream",
          "name": "stdout",
          "text": [
            "Error: Key does not exist.\n"
          ]
        }
      ]
    },
    {
      "cell_type": "markdown",
      "source": [
        "**12. Write a program that demonstrates using multiple except blocks to handle different types of exceptions**"
      ],
      "metadata": {
        "id": "Zz5N_DNuxeqi"
      }
    },
    {
      "cell_type": "code",
      "source": [
        "try:\n",
        "    value = int(\"abc\")\n",
        "except ValueError:\n",
        "    print(\"Value error occurred.\")\n",
        "except ZeroDivisionError:\n",
        "    print(\"Division by zero error.\")"
      ],
      "metadata": {
        "colab": {
          "base_uri": "https://localhost:8080/"
        },
        "id": "a0HoG82Cxixj",
        "outputId": "cd53753c-e0c8-4641-bd72-5ae68629ef6c"
      },
      "execution_count": null,
      "outputs": [
        {
          "output_type": "stream",
          "name": "stdout",
          "text": [
            "Value error occurred.\n"
          ]
        }
      ]
    },
    {
      "cell_type": "markdown",
      "source": [
        "**13. How would you check if a file exists before attempting to read it in Python?**"
      ],
      "metadata": {
        "id": "mX-p8bp7xj2_"
      }
    },
    {
      "cell_type": "code",
      "source": [
        "import os\n",
        "\n",
        "if os.path.exists(\"output.txt\"):\n",
        "    with open(\"output.txt\", \"r\") as file:\n",
        "        print(file.read())\n",
        "else:\n",
        "    print(\"File does not exist.\")\n"
      ],
      "metadata": {
        "colab": {
          "base_uri": "https://localhost:8080/"
        },
        "id": "OtsCtypaxlnb",
        "outputId": "05e3a463-068b-4517-e670-6e3f4fa197e2"
      },
      "execution_count": null,
      "outputs": [
        {
          "output_type": "stream",
          "name": "stdout",
          "text": [
            "\n",
            "This is appended text.\n"
          ]
        }
      ]
    },
    {
      "cell_type": "markdown",
      "source": [
        "**14. Write a program that uses the logging module to log both informational and error messages**"
      ],
      "metadata": {
        "id": "LsMcLKxmxn_K"
      }
    },
    {
      "cell_type": "code",
      "source": [
        "import logging\n",
        "\n",
        "logging.basicConfig(filename=\"app.log\", level=logging.DEBUG)\n",
        "\n",
        "logging.info(\"Application started.\")\n",
        "try:\n",
        "    result = 10 / 0\n",
        "except ZeroDivisionError:\n",
        "    logging.error(\"Error: Division by zero.\")\n"
      ],
      "metadata": {
        "colab": {
          "base_uri": "https://localhost:8080/"
        },
        "id": "g1V-sqdFxok7",
        "outputId": "7643fd47-583d-4840-aed5-bc4bd784e2e9"
      },
      "execution_count": null,
      "outputs": [
        {
          "output_type": "stream",
          "name": "stderr",
          "text": [
            "ERROR:root:Error: Division by zero.\n"
          ]
        }
      ]
    },
    {
      "cell_type": "markdown",
      "source": [
        "**15. Write a Python program that prints the content of a file and handles the case when the file is empty**"
      ],
      "metadata": {
        "id": "225ImAJ_xwbD"
      }
    },
    {
      "cell_type": "code",
      "source": [
        "with open(\"output.txt\", \"r\") as file:\n",
        "    content = file.read()\n",
        "    if not content:\n",
        "        print(\"File is empty.\")\n",
        "    else:\n",
        "        print(content)"
      ],
      "metadata": {
        "colab": {
          "base_uri": "https://localhost:8080/"
        },
        "id": "CBwr5Mu3xy1f",
        "outputId": "c8e7483e-9732-4c3f-cd53-25895dd86b54"
      },
      "execution_count": null,
      "outputs": [
        {
          "output_type": "stream",
          "name": "stdout",
          "text": [
            "\n",
            "This is appended text.\n"
          ]
        }
      ]
    },
    {
      "cell_type": "markdown",
      "source": [
        "**16. Demonstrate how to use memory profiling to check the memory usage of a small program**"
      ],
      "metadata": {
        "id": "414vAMo5x2y0"
      }
    },
    {
      "cell_type": "code",
      "source": [
        "from memory_profiler import profile\n",
        "\n",
        "@profile\n",
        "def my_function():\n",
        "    data = [x for x in range(100000)]\n",
        "    return data\n",
        "\n",
        "my_function()\n"
      ],
      "metadata": {
        "colab": {
          "base_uri": "https://localhost:8080/",
          "height": 400
        },
        "id": "qbk2NLtgx5eL",
        "outputId": "e5974232-07e8-4bfe-b9b4-0a7abd4fec7d"
      },
      "execution_count": null,
      "outputs": [
        {
          "output_type": "error",
          "ename": "ModuleNotFoundError",
          "evalue": "No module named 'memory_profiler'",
          "traceback": [
            "\u001b[0;31m---------------------------------------------------------------------------\u001b[0m",
            "\u001b[0;31mModuleNotFoundError\u001b[0m                       Traceback (most recent call last)",
            "\u001b[0;32m/tmp/ipython-input-2616535202.py\u001b[0m in \u001b[0;36m<cell line: 0>\u001b[0;34m()\u001b[0m\n\u001b[0;32m----> 1\u001b[0;31m \u001b[0;32mfrom\u001b[0m \u001b[0mmemory_profiler\u001b[0m \u001b[0;32mimport\u001b[0m \u001b[0mprofile\u001b[0m\u001b[0;34m\u001b[0m\u001b[0;34m\u001b[0m\u001b[0m\n\u001b[0m\u001b[1;32m      2\u001b[0m \u001b[0;34m\u001b[0m\u001b[0m\n\u001b[1;32m      3\u001b[0m \u001b[0;34m@\u001b[0m\u001b[0mprofile\u001b[0m\u001b[0;34m\u001b[0m\u001b[0;34m\u001b[0m\u001b[0m\n\u001b[1;32m      4\u001b[0m \u001b[0;32mdef\u001b[0m \u001b[0mmy_function\u001b[0m\u001b[0;34m(\u001b[0m\u001b[0;34m)\u001b[0m\u001b[0;34m:\u001b[0m\u001b[0;34m\u001b[0m\u001b[0;34m\u001b[0m\u001b[0m\n\u001b[1;32m      5\u001b[0m     \u001b[0mdata\u001b[0m \u001b[0;34m=\u001b[0m \u001b[0;34m[\u001b[0m\u001b[0mx\u001b[0m \u001b[0;32mfor\u001b[0m \u001b[0mx\u001b[0m \u001b[0;32min\u001b[0m \u001b[0mrange\u001b[0m\u001b[0;34m(\u001b[0m\u001b[0;36m100000\u001b[0m\u001b[0;34m)\u001b[0m\u001b[0;34m]\u001b[0m\u001b[0;34m\u001b[0m\u001b[0;34m\u001b[0m\u001b[0m\n",
            "\u001b[0;31mModuleNotFoundError\u001b[0m: No module named 'memory_profiler'",
            "",
            "\u001b[0;31m---------------------------------------------------------------------------\u001b[0;32m\nNOTE: If your import is failing due to a missing package, you can\nmanually install dependencies using either !pip or !apt.\n\nTo view examples of installing some common dependencies, click the\n\"Open Examples\" button below.\n\u001b[0;31m---------------------------------------------------------------------------\u001b[0m\n"
          ],
          "errorDetails": {
            "actions": [
              {
                "action": "open_url",
                "actionText": "Open Examples",
                "url": "/notebooks/snippets/importing_libraries.ipynb"
              }
            ]
          }
        }
      ]
    },
    {
      "cell_type": "markdown",
      "source": [
        "**17. Write a Python program to create and write a list of numbers to a file, one number per line**"
      ],
      "metadata": {
        "id": "kj1pJQHDx8xE"
      }
    },
    {
      "cell_type": "code",
      "source": [
        "numbers = [1, 2, 3, 4, 5]\n",
        "with open(\"numbers.txt\", \"w\") as file:\n",
        "    for num in numbers:\n",
        "        file.write(str(num) + \"\\n\")\n"
      ],
      "metadata": {
        "id": "i9ZH4E9Rx-78"
      },
      "execution_count": null,
      "outputs": []
    },
    {
      "cell_type": "markdown",
      "source": [
        "**18. How would you implement a basic logging setup that logs to a file with rotation after 1MB?**"
      ],
      "metadata": {
        "id": "m76dzj65yAVN"
      }
    },
    {
      "cell_type": "code",
      "source": [
        "import logging\n",
        "from logging.handlers import RotatingFileHandler\n",
        "\n",
        "handler = RotatingFileHandler(\"rotating.log\", maxBytes=1_000_000, backupCount=3)\n",
        "logging.basicConfig(handlers=[handler], level=logging.INFO)\n",
        "\n",
        "logging.info(\"This is a rotating log example.\")\n"
      ],
      "metadata": {
        "id": "h9S0cM-DyCBz"
      },
      "execution_count": null,
      "outputs": []
    },
    {
      "cell_type": "markdown",
      "source": [
        "**19. Write a program that handles both IndexError and KeyError using a try-except block**"
      ],
      "metadata": {
        "id": "GeW7KqBAyDIO"
      }
    },
    {
      "cell_type": "code",
      "source": [
        "data = {\"name\": \"John\"}\n",
        "try:\n",
        "    print(data[\"age\"])\n",
        "    my_list = [1, 2, 3]\n",
        "    print(my_list[5])\n",
        "except (IndexError, KeyError) as e:\n",
        "    print(f\"Error: {e}\")\n"
      ],
      "metadata": {
        "colab": {
          "base_uri": "https://localhost:8080/"
        },
        "id": "ZrxeFOYUyFPD",
        "outputId": "94a970bc-82fe-4513-a156-57780de18b7f"
      },
      "execution_count": null,
      "outputs": [
        {
          "output_type": "stream",
          "name": "stdout",
          "text": [
            "Error: 'age'\n"
          ]
        }
      ]
    },
    {
      "cell_type": "markdown",
      "source": [
        "**20. How would you open a file and read its contents using a context manager in Python?**"
      ],
      "metadata": {
        "id": "KyGLDRkZyNRN"
      }
    },
    {
      "cell_type": "code",
      "source": [
        "with open(\"output.txt\", \"r\") as file:\n",
        "    print(file.read())\n"
      ],
      "metadata": {
        "colab": {
          "base_uri": "https://localhost:8080/"
        },
        "id": "--aVUp5gyRYK",
        "outputId": "bd8733c5-6f4c-430e-96cf-0b41fd0c49d5"
      },
      "execution_count": null,
      "outputs": [
        {
          "output_type": "stream",
          "name": "stdout",
          "text": [
            "\n",
            "This is appended text.\n"
          ]
        }
      ]
    },
    {
      "cell_type": "markdown",
      "source": [
        "**21. Write a Python program that reads a file and prints the number of occurrences of a specific word**"
      ],
      "metadata": {
        "id": "oHo-8KFjyR7E"
      }
    },
    {
      "cell_type": "code",
      "source": [
        "word_to_count = \"Python\"\n",
        "with open(\"output.txt\", \"r\") as file:\n",
        "    content = file.read()\n",
        "count = content.count(word_to_count)\n",
        "print(f\"The word '{word_to_count}' occurs {count} times.\")\n"
      ],
      "metadata": {
        "colab": {
          "base_uri": "https://localhost:8080/"
        },
        "id": "UIv5LkcXyTQ9",
        "outputId": "09116369-6bf9-473b-fbce-79160d383217"
      },
      "execution_count": null,
      "outputs": [
        {
          "output_type": "stream",
          "name": "stdout",
          "text": [
            "The word 'Python' occurs 0 times.\n"
          ]
        }
      ]
    },
    {
      "cell_type": "markdown",
      "source": [
        "**22. How can you check if a file is empty before attempting to read its contents?**"
      ],
      "metadata": {
        "id": "ULauTKFTyU8T"
      }
    },
    {
      "cell_type": "code",
      "source": [
        "import os\n",
        "\n",
        "if os.path.getsize(\"output.txt\") == 0:\n",
        "    print(\"File is empty.\")\n",
        "else:\n",
        "    with open(\"output.txt\", \"r\") as file:\n",
        "        print(file.read())\n"
      ],
      "metadata": {
        "colab": {
          "base_uri": "https://localhost:8080/"
        },
        "id": "WAuSausNyW1i",
        "outputId": "3d77fcce-1811-47a1-de5e-b3531aad6005"
      },
      "execution_count": null,
      "outputs": [
        {
          "output_type": "stream",
          "name": "stdout",
          "text": [
            "\n",
            "This is appended text.\n"
          ]
        }
      ]
    },
    {
      "cell_type": "markdown",
      "source": [
        "**23. Write a Python program that writes to a log file when an error occurs during file handling.**"
      ],
      "metadata": {
        "id": "sJfPTMljyYlS"
      }
    },
    {
      "cell_type": "code",
      "source": [
        "import logging\n",
        "\n",
        "logging.basicConfig(filename=\"file_errors.log\", level=logging.ERROR)\n",
        "\n",
        "try:\n",
        "    with open(\"non_existing.txt\", \"r\") as file:\n",
        "        content = file.read()\n",
        "except FileNotFoundError as e:\n",
        "    logging.error(f\"File handling error: {e}\")\n"
      ],
      "metadata": {
        "colab": {
          "base_uri": "https://localhost:8080/"
        },
        "id": "5KDi_8jtyaLj",
        "outputId": "06ae29bd-5d65-4e2a-884f-4b7b5dff8987"
      },
      "execution_count": null,
      "outputs": [
        {
          "output_type": "stream",
          "name": "stderr",
          "text": [
            "ERROR:root:File handling error: [Errno 2] No such file or directory: 'non_existing.txt'\n"
          ]
        }
      ]
    }
  ]
}