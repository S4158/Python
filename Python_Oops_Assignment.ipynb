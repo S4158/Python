{
  "nbformat": 4,
  "nbformat_minor": 0,
  "metadata": {
    "colab": {
      "provenance": [],
      "authorship_tag": "ABX9TyP8kIut1RFPGIUDlACXxcQI",
      "include_colab_link": true
    },
    "kernelspec": {
      "name": "python3",
      "display_name": "Python 3"
    },
    "language_info": {
      "name": "python"
    }
  },
  "cells": [
    {
      "cell_type": "markdown",
      "metadata": {
        "id": "view-in-github",
        "colab_type": "text"
      },
      "source": [
        "<a href=\"https://colab.research.google.com/github/S4158/Python/blob/main/Python_Oops_Assignment.ipynb\" target=\"_parent\"><img src=\"https://colab.research.google.com/assets/colab-badge.svg\" alt=\"Open In Colab\"/></a>"
      ]
    },
    {
      "cell_type": "markdown",
      "source": [
        "## **Python OOPs Questions**\n",
        "\n",
        "**1. What is Object-Oriented Programming (OOP)?**\n",
        "\n",
        "OOP is a programming paradigm based on the concept of \"objects\", which contain data and methods that operate on the data.\n",
        "\n",
        "\n",
        "**2. What is a class in OOP?**\n",
        "\n",
        "A class is a blueprint for creating objects, defining attributes and behaviors that the created objects will have.\n",
        "\n",
        "\n",
        "**3. What is an object in OOP?**\n",
        "\n",
        "An object is an instance of a class containing specific data and methods defined by its class.\n",
        "\n",
        "\n",
        "**4. What is the difference between abstraction and encapsulation?**\n",
        "\n",
        "Abstraction hides complexity by showing essential features; encapsulation hides internal object details by restricting access.\n",
        "\n",
        "**5. What are dunder methods in Python?**\n",
        "\n",
        "Dunder methods are special methods with double underscores, like __init__ or __str__, used for operator overloading and customization.\n",
        "\n",
        "**6. Explain the concept of inheritance in OOP.**\n",
        "\n",
        "Inheritance allows a class to acquire properties and methods from another class, promoting reusability and hierarchy.\n",
        "\n",
        "**7. What is polymorphism in OOP?**\n",
        "\n",
        "Polymorphism allows objects to take on many forms, letting the same method behave differently across different classes.\n",
        "\n",
        "**8. How is encapsulation achieved in Python?**\n",
        "\n",
        "Encapsulation is achieved using private/protected attributes and getter/setter methods to control access to data.\n",
        "\n",
        "**9. What is a constructor in Python?**\n",
        "\n",
        "A constructor is the __init__ method automatically called when an object is created to initialize its attributes.\n",
        "\n",
        "**10. What are class and static methods in Python?**\n",
        "\n",
        "Class methods use @classmethod and access class state; static methods use @staticmethod and don't access class or instance state.\n",
        "\n",
        "**11. What is method overloading in Python?**\n",
        "\n",
        "Python doesn’t support true method overloading but allows default arguments to mimic it by varying parameters.\n",
        "\n",
        "**12. What is method overriding in OOP?**\n",
        "\n",
        "Overriding allows a subclass to provide a specific implementation of a method already defined in its superclass.\n",
        "\n",
        "**13. What is a property decorator in Python?**\n",
        "\n",
        "The @property decorator lets you define a method as a read-only attribute, improving encapsulation and access control.\n",
        "\n",
        "**14. Why is polymorphism important in OOP?**\n",
        "\n",
        "Polymorphism simplifies code, enhances flexibility, and allows different classes to be treated through a common interface.\n",
        "\n",
        "**15. What is an abstract class in Python?**\n",
        "\n",
        "An abstract class can’t be instantiated and may contain abstract methods that must be implemented by subclasses.\n",
        "\n",
        "**16. What are the advantages of OOP? **\n",
        "\n",
        "OOP enhances modularity, reusability, scalability, and maintainability by organizing code into objects and classes.\n",
        "\n",
        "**17. What is the difference between a class variable and an instance variable? **\n",
        "\n",
        "Class variables are shared across all instances; instance variables are unique to each object.\n",
        "\n",
        "**18. What is multiple inheritance in Python? **\n",
        "\n",
        "Multiple inheritance allows a class to inherit from more than one base class, combining attributes and behaviors.\n",
        "\n",
        "**19. Explain the purpose of __str__ and __repr__ methods in Python. **\n",
        "\n",
        "__str__ returns a user-friendly string; __repr__ returns a developer-friendly string for object representation.\n",
        "\n",
        "**20. What is the significance of the super() function in Python? **\n",
        "\n",
        "super() calls a method from a parent class, useful in method overriding and multiple inheritance.\n",
        "\n",
        "**21. What is the significance of the __del__ method in Python? **\n",
        "\n",
        "__del__ is a destructor called when an object is about to be destroyed, used for cleanup.\n",
        "\n",
        "**22. What is the difference between @staticmethod and @classmethod in Python? **\n",
        "\n",
        "@staticmethod doesn’t access class/instance data; @classmethod accesses class data and receives class as the first argument.\n",
        "\n",
        "**23. How does polymorphism work in Python with inheritance? **\n",
        "\n",
        "Python supports polymorphism by allowing inherited methods to be overridden, enabling dynamic behavior during runtime.\n",
        "\n",
        "**24. What is method chaining in Python OOP? **\n",
        "\n",
        "Method chaining allows calling multiple methods in one line by returning self from each method.\n",
        "\n",
        "**25. What is the purpose of the __call__ method in Python? **\n",
        "\n",
        "__call__ lets an instance be called like a function, adding callable behavior to objects.\n"
      ],
      "metadata": {
        "id": "DXvuXc5OopyH"
      }
    },
    {
      "cell_type": "markdown",
      "source": [
        "**1. Create a parent class Animal with a method speak() that prints a generic message. Create a child class Dog that overrides the speak() method to print \"Bark!\".**"
      ],
      "metadata": {
        "id": "BIo7WV6dpOpX"
      }
    },
    {
      "cell_type": "code",
      "source": [
        "class Animal:\n",
        "    def speak(self):\n",
        "        print(\"Generic animal sound\")\n",
        "\n",
        "class Dog(Animal):\n",
        "    def speak(self):\n",
        "        print(\"Bark!\")"
      ],
      "metadata": {
        "id": "QvJHTl0YphjN"
      },
      "execution_count": 2,
      "outputs": []
    },
    {
      "cell_type": "code",
      "source": [
        "dog=Dog()\n",
        "dog.speak()"
      ],
      "metadata": {
        "colab": {
          "base_uri": "https://localhost:8080/"
        },
        "id": "wsMxZR9kpoWl",
        "outputId": "6208500a-5ac0-4e23-aae1-a3ac0a1d7787"
      },
      "execution_count": 3,
      "outputs": [
        {
          "output_type": "stream",
          "name": "stdout",
          "text": [
            "Bark!\n"
          ]
        }
      ]
    },
    {
      "cell_type": "markdown",
      "source": [
        "**2. Write a program to create an abstract class Shape with a method area(). Derive classes Circle and Rectangle from it and implement the area() method in both.**"
      ],
      "metadata": {
        "id": "UYz40r4vprZl"
      }
    },
    {
      "cell_type": "code",
      "source": [
        "from abc import ABC, abstractmethod\n",
        "\n",
        "class Shape(ABC):\n",
        "    @abstractmethod\n",
        "    def area(self):\n",
        "        pass\n",
        "class Circle(Shape):\n",
        "    def __init__(self, radius):\n",
        "        self.radius = radius\n",
        "\n",
        "    def area(self):\n",
        "        return 3.14 * self.radius **2\n",
        "class Rectangle(Shape):\n",
        "    def __init__(self, length, width):\n",
        "        self.length = length\n",
        "        self.width = width\n",
        "\n",
        "    def area(self):\n",
        "        return self.length * self.width"
      ],
      "metadata": {
        "id": "vwCv79TppvH-"
      },
      "execution_count": 5,
      "outputs": []
    },
    {
      "cell_type": "code",
      "source": [
        "circle = Circle(5)\n",
        "rectangle = Rectangle(4, 6)\n",
        "print(circle.area())\n",
        "print(rectangle.area())"
      ],
      "metadata": {
        "colab": {
          "base_uri": "https://localhost:8080/"
        },
        "id": "VeezxD3OrE-A",
        "outputId": "45a66df0-3b6b-4ec4-b968-fde544b9234d"
      },
      "execution_count": 6,
      "outputs": [
        {
          "output_type": "stream",
          "name": "stdout",
          "text": [
            "78.5\n",
            "24\n"
          ]
        }
      ]
    },
    {
      "cell_type": "markdown",
      "source": [
        "**3. Implement a multi-level inheritance scenario where a class Vehicle has an attribute type. Derive a class Car and further derive a class ElectricCar that adds a battery attribute.**"
      ],
      "metadata": {
        "id": "xoMzW7U8rHsF"
      }
    },
    {
      "cell_type": "code",
      "source": [
        "class Vehicle:\n",
        "  def __init__(self,type):\n",
        "    self.type=type\n",
        "class Car(Vehicle):\n",
        "  def __init__(self,type,color):\n",
        "    super().__init__(type)\n",
        "    self.color=color\n",
        "class ElectricCar(Car):\n",
        "  def __init__(self,type,color,battery):\n",
        "    super().__init__(type,color)"
      ],
      "metadata": {
        "id": "af-b-qUDrQVN"
      },
      "execution_count": 7,
      "outputs": []
    },
    {
      "cell_type": "code",
      "source": [
        "C1=ElectricCar(\"Electric\",\"Black\",\"40kWh\")\n",
        "print(C1.color)"
      ],
      "metadata": {
        "colab": {
          "base_uri": "https://localhost:8080/"
        },
        "id": "q90YA8kRrZBe",
        "outputId": "128e20ac-f53b-40dc-f8d9-6c01258fb4f7"
      },
      "execution_count": 11,
      "outputs": [
        {
          "output_type": "stream",
          "name": "stdout",
          "text": [
            "Black\n"
          ]
        }
      ]
    },
    {
      "cell_type": "markdown",
      "source": [
        "**4. Demonstrate polymorphism by creating a base class Bird with a method fly(). Create two derived classes Sparrow and Penguin that override the fly() method.**"
      ],
      "metadata": {
        "id": "0ovNV6derqmO"
      }
    },
    {
      "cell_type": "code",
      "source": [
        "class Bird:\n",
        "    def fly(self):\n",
        "        print(\"Bird can fly\")\n",
        "\n",
        "class Sparrow(Bird):\n",
        "    def fly(self):\n",
        "        print(\"Sparrow flies high\")\n",
        "\n",
        "class Penguin(Bird):\n",
        "    def fly(self):\n",
        "        print(\"Penguin cannot fly\")"
      ],
      "metadata": {
        "id": "FE5WAZljrt08"
      },
      "execution_count": 12,
      "outputs": []
    },
    {
      "cell_type": "code",
      "source": [
        "birds = [Sparrow(), Penguin()]\n",
        "for bird in birds:\n",
        "    bird.fly()"
      ],
      "metadata": {
        "colab": {
          "base_uri": "https://localhost:8080/"
        },
        "id": "vDRG6m5pryE_",
        "outputId": "69ae736f-d5f9-40ca-e48d-d1c5a3e84b14"
      },
      "execution_count": 13,
      "outputs": [
        {
          "output_type": "stream",
          "name": "stdout",
          "text": [
            "Sparrow flies high\n",
            "Penguin cannot fly\n"
          ]
        }
      ]
    },
    {
      "cell_type": "markdown",
      "source": [
        "**5. Write a program to demonstrate encapsulation by creating a class BankAccount with private attributes balance and methods to deposit, withdraw, and check balance.**"
      ],
      "metadata": {
        "id": "Subv-qOMr24t"
      }
    },
    {
      "cell_type": "code",
      "source": [
        "class BankAccount:\n",
        "    def __init__(self):\n",
        "        self.__balance = 0\n",
        "\n",
        "    def deposit(self, amount):\n",
        "        self.__balance += amount\n",
        "\n",
        "    def withdraw(self, amount):\n",
        "        if amount <= self.__balance:\n",
        "            self.__balance -= amount\n",
        "        else:\n",
        "            print(\"Insufficient funds\")\n",
        "\n",
        "    def get_balance(self):\n",
        "        return self.__balance"
      ],
      "metadata": {
        "id": "eXiwvoXHr37Y"
      },
      "execution_count": 14,
      "outputs": []
    },
    {
      "cell_type": "code",
      "source": [
        "account = BankAccount()\n",
        "account.deposit(1000)\n",
        "account.withdraw(300)\n",
        "print(account.get_balance())"
      ],
      "metadata": {
        "colab": {
          "base_uri": "https://localhost:8080/"
        },
        "id": "0qxEvCc3r6e-",
        "outputId": "5d699ecd-9fc9-4b45-8da8-6eac92358bdd"
      },
      "execution_count": 15,
      "outputs": [
        {
          "output_type": "stream",
          "name": "stdout",
          "text": [
            "700\n"
          ]
        }
      ]
    },
    {
      "cell_type": "markdown",
      "source": [
        "**6. Demonstrate runtime polymorphism using a method play() in a base class Instrument. Derive classes Guitar and Piano that implement their own version of play().**"
      ],
      "metadata": {
        "id": "N8qxlKT5PdjH"
      }
    },
    {
      "cell_type": "code",
      "source": [
        "class Instrument:\n",
        "    def play(self):\n",
        "        print(\"Generic instrument sound\")\n",
        "\n",
        "class Guitar(Instrument):\n",
        "    def play(self):\n",
        "        print(\"Guitar sound\")\n",
        "\n",
        "class Piano(Instrument):\n",
        "    def play(self):\n",
        "        print(\"Piano sound\")"
      ],
      "metadata": {
        "id": "TvPA59WQPg2G"
      },
      "execution_count": 1,
      "outputs": []
    },
    {
      "cell_type": "code",
      "source": [
        "instruments = [Guitar(), Piano()]\n",
        "for inst in instruments:\n",
        "    inst.play()"
      ],
      "metadata": {
        "colab": {
          "base_uri": "https://localhost:8080/"
        },
        "id": "Cxm4NV5BPnTq",
        "outputId": "33c79a05-9682-4716-e9e9-e920876e8ea7"
      },
      "execution_count": 2,
      "outputs": [
        {
          "output_type": "stream",
          "name": "stdout",
          "text": [
            "Guitar sound\n",
            "Piano sound\n"
          ]
        }
      ]
    },
    {
      "cell_type": "markdown",
      "source": [
        "**7. Create a class MathOperations with a class method add_numbers() to add two numbers and a static method subtract_numbers() to subtract two numbers.**"
      ],
      "metadata": {
        "id": "sOG7F3iuPrvL"
      }
    },
    {
      "cell_type": "code",
      "source": [
        "class mathoperations:\n",
        "  @classmethod\n",
        "  def add_numbers(cls,a,b):\n",
        "    return a+b\n",
        "\n",
        "  @staticmethod\n",
        "  def subtrach_number(a,b):\n",
        "    return a-b\n",
        "\n",
        "print(mathoperations.add_numbers(5, 3))\n",
        "print(mathoperations.subtrach_number(10, 4))"
      ],
      "metadata": {
        "colab": {
          "base_uri": "https://localhost:8080/"
        },
        "id": "jDkqOlKmPv-P",
        "outputId": "d76a489f-1226-4e3e-e147-582140b4a4b5"
      },
      "execution_count": 5,
      "outputs": [
        {
          "output_type": "stream",
          "name": "stdout",
          "text": [
            "8\n",
            "6\n"
          ]
        }
      ]
    },
    {
      "cell_type": "markdown",
      "source": [
        "**8. Implement a class Person with a class method to count the total number of persons created.**"
      ],
      "metadata": {
        "id": "noSavDNqQUjj"
      }
    },
    {
      "cell_type": "code",
      "source": [
        "class Person:\n",
        "    count = 0\n",
        "\n",
        "    def __init__(self, name):\n",
        "        self.name = name\n",
        "        Person.count += 1\n",
        "\n",
        "    @classmethod\n",
        "    def get_count(cls):\n",
        "        return cls.count"
      ],
      "metadata": {
        "id": "D4mdnqivQXoQ"
      },
      "execution_count": 8,
      "outputs": []
    },
    {
      "cell_type": "code",
      "source": [
        "p1 = Person(\"Alice\")\n",
        "p2 = Person(\"Bob\")\n",
        "print(Person.get_count())"
      ],
      "metadata": {
        "colab": {
          "base_uri": "https://localhost:8080/"
        },
        "id": "rGscGK2DQdDL",
        "outputId": "6189b779-114d-4fcc-a7bf-4a78114f47b0"
      },
      "execution_count": 9,
      "outputs": [
        {
          "output_type": "stream",
          "name": "stdout",
          "text": [
            "2\n"
          ]
        }
      ]
    },
    {
      "cell_type": "markdown",
      "source": [
        "**9. Write a class Fraction with attributes numerator and denominator. Override the str method to display the fraction as \"numerator/denominator\".**"
      ],
      "metadata": {
        "id": "2-79AYGJQmqR"
      }
    },
    {
      "cell_type": "code",
      "source": [
        "class Fraction:\n",
        "  def __init__(self,numerator,denominator):\n",
        "    self.numerator=numerator\n",
        "    self.denominator=denominator\n",
        "  def __str__(self):\n",
        "    return f\"{self.numerator}/{self.denominator}\""
      ],
      "metadata": {
        "id": "V0-pq9imQpf3"
      },
      "execution_count": 11,
      "outputs": []
    },
    {
      "cell_type": "code",
      "source": [
        "frac = Fraction(3, 4)\n",
        "print(frac)"
      ],
      "metadata": {
        "colab": {
          "base_uri": "https://localhost:8080/"
        },
        "id": "W5IYSfoVQ2Bj",
        "outputId": "088a13fc-c27c-4a4d-b1e4-999a161b56d3"
      },
      "execution_count": 12,
      "outputs": [
        {
          "output_type": "stream",
          "name": "stdout",
          "text": [
            "3/4\n"
          ]
        }
      ]
    },
    {
      "cell_type": "markdown",
      "source": [
        "**10. Demonstrate operator overloading by creating a class Vector and overriding the add method to add two vectors.**"
      ],
      "metadata": {
        "id": "DgDQ4x20Q4YE"
      }
    },
    {
      "cell_type": "code",
      "source": [
        "class Vector:\n",
        "    def __init__(self, x, y):\n",
        "        self.x = x\n",
        "        self.y = y\n",
        "\n",
        "    def __add__(self, other):\n",
        "        return Vector(self.x + other.x, self.y + other.y)\n",
        "\n",
        "    def __str__(self):\n",
        "      return f\"({self.x}, {self.y})\""
      ],
      "metadata": {
        "id": "zNVY-cv2Q7Yq"
      },
      "execution_count": 19,
      "outputs": []
    },
    {
      "cell_type": "code",
      "source": [
        "v1 = Vector(1,2)\n",
        "v2 = Vector(3,4)\n",
        "print(v1+v2)"
      ],
      "metadata": {
        "colab": {
          "base_uri": "https://localhost:8080/"
        },
        "id": "Gl6cIncIQ_Q_",
        "outputId": "df3f964e-439e-47ec-b2d9-c1f21899ad7e"
      },
      "execution_count": 20,
      "outputs": [
        {
          "output_type": "stream",
          "name": "stdout",
          "text": [
            "(4, 6)\n"
          ]
        }
      ]
    },
    {
      "cell_type": "markdown",
      "source": [
        "**11. Create a class Person with attributes name and age. Add a method greet() that prints \"Hello, my name is {name} and I am {age} years old.\"**"
      ],
      "metadata": {
        "id": "rk9f9fXURZhb"
      }
    },
    {
      "cell_type": "code",
      "source": [
        "class Person:\n",
        "  def __init__(self, name, age):\n",
        "    self.name = name\n",
        "    self.age = age\n",
        "\n",
        "  def greet(self):\n",
        "    print(f\"Hello, my name is {self.name} and I am {self.age} years old.\")"
      ],
      "metadata": {
        "id": "eV-dwSD3Rc34"
      },
      "execution_count": 23,
      "outputs": []
    },
    {
      "cell_type": "code",
      "source": [
        "p = Person(\"Sumit\",28)\n",
        "p.greet()"
      ],
      "metadata": {
        "colab": {
          "base_uri": "https://localhost:8080/"
        },
        "id": "Nja_ZgTkSABw",
        "outputId": "2766f67e-e62d-4fb7-bfc5-39ef5082d70e"
      },
      "execution_count": 24,
      "outputs": [
        {
          "output_type": "stream",
          "name": "stdout",
          "text": [
            "Hello, my name is Sumit and I am 28 years old.\n"
          ]
        }
      ]
    },
    {
      "cell_type": "markdown",
      "source": [
        "**12. Implement a class Student with attributes name and grades. Create a method average_grade() to compute the average of the grades.**"
      ],
      "metadata": {
        "id": "A4wyhUoRSHem"
      }
    },
    {
      "cell_type": "code",
      "source": [
        "class Student:\n",
        "  def __init__(self,name,grades):\n",
        "    self.name=name\n",
        "    self.grades=grades\n",
        "  def average_grade(self):\n",
        "    return sum(self.grades)/len(self.grades)"
      ],
      "metadata": {
        "id": "AJT_0uQQSOog"
      },
      "execution_count": 25,
      "outputs": []
    },
    {
      "cell_type": "code",
      "source": [
        "s = Student(\"Sumit\", [85, 90, 95])\n",
        "print(s.average_grade())"
      ],
      "metadata": {
        "colab": {
          "base_uri": "https://localhost:8080/"
        },
        "id": "3UYqhV0LSTtx",
        "outputId": "b379b92f-7010-4546-9ab2-6872c4aeb85e"
      },
      "execution_count": 27,
      "outputs": [
        {
          "output_type": "stream",
          "name": "stdout",
          "text": [
            "90.0\n"
          ]
        }
      ]
    },
    {
      "cell_type": "markdown",
      "source": [
        "**13. Create a class Rectangle with methods set_dimensions() to set the dimensions and area() to calculate the area.**"
      ],
      "metadata": {
        "id": "SBr9qO2SSZiT"
      }
    },
    {
      "cell_type": "code",
      "source": [
        "class Rectangle:\n",
        "  def set_dimension(self, length, width):\n",
        "    self.length = length\n",
        "    self.width = width\n",
        "\n",
        "  def area(self):\n",
        "    return self.length * self.width"
      ],
      "metadata": {
        "id": "CuWgwV9aScUg"
      },
      "execution_count": 28,
      "outputs": []
    },
    {
      "cell_type": "code",
      "source": [
        "r=Rectangle()\n",
        "r.set_dimension(5,4)\n",
        "print(r.area())"
      ],
      "metadata": {
        "colab": {
          "base_uri": "https://localhost:8080/"
        },
        "id": "qjKV14YsS5_3",
        "outputId": "e576d3fd-4f82-46a6-e976-a2e3adc41f8d"
      },
      "execution_count": 29,
      "outputs": [
        {
          "output_type": "stream",
          "name": "stdout",
          "text": [
            "20\n"
          ]
        }
      ]
    },
    {
      "cell_type": "markdown",
      "source": [
        "**14. Create a class Employee with a method calculate_salary() that computes the salary based on hours worked and hourly rate. Create a derived class Manager that adds a bonus to the salary.**"
      ],
      "metadata": {
        "id": "ABte95UKS-Ja"
      }
    },
    {
      "cell_type": "code",
      "source": [
        "class Employee:\n",
        "    def _calculate_salary(self, hours_worked, hourly_rate):\n",
        "        return hours_worked * hourly_rate\n",
        "class Manager(Employee):\n",
        "    def calculate_salary(self, hours_worked, hourly_rate, bonus):\n",
        "        return super()._calculate_salary(hours_worked, hourly_rate) + bonus"
      ],
      "metadata": {
        "id": "juiBnFbdTCRw"
      },
      "execution_count": 33,
      "outputs": []
    },
    {
      "cell_type": "code",
      "source": [
        "M=Manager()\n",
        "print(M.calculate_salary(40, 50, 1000))"
      ],
      "metadata": {
        "colab": {
          "base_uri": "https://localhost:8080/"
        },
        "id": "tiM9WTkLTZ5R",
        "outputId": "b8b2201b-8b65-42fd-b2e1-87c1c4cbee6d"
      },
      "execution_count": 34,
      "outputs": [
        {
          "output_type": "stream",
          "name": "stdout",
          "text": [
            "3000\n"
          ]
        }
      ]
    },
    {
      "cell_type": "markdown",
      "source": [
        "**15. Create a class Product with attributes name, price, and quantity. Implement a method total_price() that calculates the total price of the product.**"
      ],
      "metadata": {
        "id": "E0iZHwauThfa"
      }
    },
    {
      "cell_type": "code",
      "source": [
        "class Product:\n",
        "  def __init__(self,name,price,quantity):\n",
        "    self.name=name\n",
        "    self.price=price\n",
        "    self.quantity=quantity\n",
        "  def total_price(self):\n",
        "    return self.price*self.quantity"
      ],
      "metadata": {
        "id": "REI4dHTzTqJo"
      },
      "execution_count": 35,
      "outputs": []
    },
    {
      "cell_type": "code",
      "source": [
        "p = Product(\"Pen\", 10, 5)\n",
        "print(p.total_price())"
      ],
      "metadata": {
        "colab": {
          "base_uri": "https://localhost:8080/"
        },
        "id": "J7qnpBeGTukI",
        "outputId": "51f43f8f-2f8d-4406-dd46-85f5a1bee386"
      },
      "execution_count": 36,
      "outputs": [
        {
          "output_type": "stream",
          "name": "stdout",
          "text": [
            "50\n"
          ]
        }
      ]
    },
    {
      "cell_type": "markdown",
      "source": [
        "**16. Create a class Animal with an abstract method sound(). Create two derived classes Cow and Sheep that implement the sound() method.**"
      ],
      "metadata": {
        "id": "W-yqyRp8TxcP"
      }
    },
    {
      "cell_type": "code",
      "source": [
        "class Animal:\n",
        "  def sound(self):\n",
        "    pass\n",
        "class Cow(Animal):\n",
        "  def sound(self):\n",
        "    print(\"Moo\")\n",
        "class Sheep(Animal):\n",
        "  def sound(self):\n",
        "    print(\"Baa\")"
      ],
      "metadata": {
        "id": "arqmKB4nTzyI"
      },
      "execution_count": 37,
      "outputs": []
    },
    {
      "cell_type": "code",
      "source": [
        "a1 = Cow()\n",
        "a2 = Sheep()\n",
        "a1.sound()\n",
        "a2.sound()"
      ],
      "metadata": {
        "colab": {
          "base_uri": "https://localhost:8080/"
        },
        "id": "5jxaKbHKT5uc",
        "outputId": "4158d19d-d898-4122-9898-f33ec1387119"
      },
      "execution_count": 38,
      "outputs": [
        {
          "output_type": "stream",
          "name": "stdout",
          "text": [
            "Moo\n",
            "Baa\n"
          ]
        }
      ]
    },
    {
      "cell_type": "markdown",
      "source": [
        "**17. Create a class Book with attributes title, author, and year_published. Add a method get_book_info() that returns a formatted string with the book's details.**"
      ],
      "metadata": {
        "id": "VLFjqMXqT8y1"
      }
    },
    {
      "cell_type": "code",
      "source": [
        "class Book:\n",
        "  def __init__(self,title,author,year_published):\n",
        "    self.title=title\n",
        "    self.author=author\n",
        "    self.year_published=year_published\n",
        "\n",
        "  def get_book_info(self):\n",
        "    return f\"{self.title} by {self.author} ({self.year_published})\""
      ],
      "metadata": {
        "id": "30fZqb-bT-Y5"
      },
      "execution_count": 41,
      "outputs": []
    },
    {
      "cell_type": "code",
      "source": [
        "b = Book(\"1984\", \"George Orwell\", 1949)\n",
        "print(b.get_book_info())"
      ],
      "metadata": {
        "colab": {
          "base_uri": "https://localhost:8080/"
        },
        "id": "-G_eMsK_UGm9",
        "outputId": "4116cb6c-d226-4e30-dfb7-b683550d6988"
      },
      "execution_count": 42,
      "outputs": [
        {
          "output_type": "stream",
          "name": "stdout",
          "text": [
            "1984 by George Orwell (1949)\n"
          ]
        }
      ]
    },
    {
      "cell_type": "markdown",
      "source": [
        "**18. Create a class House with attributes address and price. Create a derived class Mansion that adds an attribute number_of_rooms.**"
      ],
      "metadata": {
        "id": "z7neN_VlUMpt"
      }
    },
    {
      "cell_type": "code",
      "source": [
        "class House:\n",
        "  def __init__(self,address,price):\n",
        "    self.address=address\n",
        "    self.price=price\n",
        "class Mansion(House):\n",
        "  def __init__(self,address,price,number_of_rooms):\n",
        "    super().__init__(address,price)\n",
        "    self.number_of_rooms = number_of_rooms"
      ],
      "metadata": {
        "id": "SGHYZSLvUPFg"
      },
      "execution_count": 43,
      "outputs": []
    },
    {
      "cell_type": "code",
      "source": [
        "m = Mansion(\"123 Beverly Hills\", 5000000, 10)\n",
        "print(m.address, m.price, m.number_of_rooms)"
      ],
      "metadata": {
        "colab": {
          "base_uri": "https://localhost:8080/"
        },
        "id": "aVu-VTr1UYhS",
        "outputId": "67751c52-27f5-42ff-eb2d-b5ae5418fc1a"
      },
      "execution_count": 44,
      "outputs": [
        {
          "output_type": "stream",
          "name": "stdout",
          "text": [
            "123 Beverly Hills 5000000 10\n"
          ]
        }
      ]
    }
  ]
}